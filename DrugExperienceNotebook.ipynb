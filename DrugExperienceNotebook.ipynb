{
 "cells": [
  {
   "cell_type": "markdown",
   "metadata": {},
   "source": [
    "# 1. Import Packages"
   ]
  },
  {
   "cell_type": "code",
   "execution_count": 1,
   "metadata": {},
   "outputs": [
    {
     "data": {
      "text/html": [
       "<style>.container { width:90% !important; }</style>"
      ],
      "text/plain": [
       "<IPython.core.display.HTML object>"
      ]
     },
     "metadata": {},
     "output_type": "display_data"
    },
    {
     "data": {
      "text/html": [
       "<style> .output_png { display: table-cell; text-align: center; vertical-align: middle; } </style>"
      ],
      "text/plain": [
       "<IPython.core.display.HTML object>"
      ]
     },
     "metadata": {},
     "output_type": "display_data"
    },
    {
     "data": {
      "text/html": [
       "<style>.MathJax {font-size: 300%;}</style>"
      ],
      "text/plain": [
       "<IPython.core.display.HTML object>"
      ]
     },
     "metadata": {},
     "output_type": "display_data"
    }
   ],
   "source": [
    "import nltk\n",
    "from nltk.corpus import stopwords\n",
    "from nltk.stem import WordNetLemmatizer\n",
    "%matplotlib inline\n",
    "import matplotlib.pyplot as plt\n",
    "import numpy as np\n",
    "import pandas as pd\n",
    "import re\n",
    "import time\n",
    "import re\n",
    "import os   \n",
    "import seaborn as sns\n",
    "\n",
    "from io import StringIO\n",
    "from sklearn import tree\n",
    "import matplotlib.pyplot as plt\n",
    "\n",
    "from sklearn.feature_extraction.text import CountVectorizer\n",
    "from sklearn.model_selection import GridSearchCV, cross_val_score, StratifiedKFold, learning_curve\n",
    "from sklearn.metrics import classification_report, accuracy_score\n",
    "from sklearn.model_selection import train_test_split\n",
    "from sklearn.feature_extraction.text import CountVectorizer, TfidfVectorizer\n",
    "from sklearn.metrics import precision_score, recall_score, f1_score, confusion_matrix, roc_auc_score, roc_curve\n",
    "from sklearn.feature_selection import mutual_info_classif, chi2\n",
    "from sklearn.feature_selection import SelectKBest\n",
    "\n",
    "from sklearn.ensemble import RandomForestClassifier, AdaBoostClassifier, GradientBoostingClassifier, ExtraTreesClassifier, VotingClassifier\n",
    "from xgboost import XGBClassifier\n",
    "\n",
    "from sklearn.svm import LinearSVC, SVC\n",
    "from sklearn.tree import DecisionTreeClassifier\n",
    "from sklearn.preprocessing import StandardScaler  \n",
    "from sklearn.neural_network import MLPClassifier\n",
    "from sklearn.linear_model import LogisticRegression\n",
    "from sklearn.discriminant_analysis import LinearDiscriminantAnalysis\n",
    "from sklearn.linear_model import LogisticRegression\n",
    "from sklearn.neighbors import KNeighborsClassifier\n",
    "\n",
    "from IPython.display import Image\n",
    "from IPython.display import display, HTML\n",
    "\n",
    "plt.style.use('seaborn-paper')\n",
    "plt.rcParams['figure.figsize'] = [12, 8] ## plot size\n",
    "plt.rcParams['axes.linewidth'] = 2.0 #set the value globally\n",
    "\n",
    "def warn(*args, **kwargs):\n",
    "    pass\n",
    "import warnings\n",
    "warnings.warn = warn\n",
    "\n",
    "## settings for formatting of the notebook\n",
    "from IPython.core.display import display, HTML\n",
    "display(HTML(\"<style>.container { width:90% !important; }</style>\"))\n",
    "display(HTML(\"<style> .output_png { display: table-cell; text-align: center; vertical-align: middle; } </style>\"))\n",
    "display(HTML(\"<style>.MathJax {font-size: 300%;}</style>\"))"
   ]
  },
  {
   "cell_type": "code",
   "execution_count": 2,
   "metadata": {},
   "outputs": [
    {
     "name": "stdout",
     "output_type": "stream",
     "text": [
      "[nltk_data] Downloading package stopwords to /home/ubuntu/nltk_data...\n",
      "[nltk_data]   Package stopwords is already up-to-date!\n",
      "[nltk_data] Downloading package wordnet to /home/ubuntu/nltk_data...\n",
      "[nltk_data]   Package wordnet is already up-to-date!\n"
     ]
    },
    {
     "data": {
      "text/plain": [
       "True"
      ]
     },
     "execution_count": 2,
     "metadata": {},
     "output_type": "execute_result"
    }
   ],
   "source": [
    "nltk.download('stopwords')\n",
    "nltk.download('wordnet')"
   ]
  },
  {
   "cell_type": "markdown",
   "metadata": {},
   "source": [
    "# 2. Input Command Line Arguments"
   ]
  },
  {
   "cell_type": "code",
   "execution_count": 3,
   "metadata": {
    "collapsed": true
   },
   "outputs": [],
   "source": [
    "PLOT_FONT_SIZE = 15    #font size for axis of plots\n",
    "RANDOM_STATE = 42     #random state used for splitting data and training models. Need this value to be fixed for same splits and models across experiments\n",
    "BAR_CHART_BAR_WIDTH = 0.25\n",
    "\n",
    "## input file\n",
    "INPUT_PSYCHOMETRIC_DIMENSION = \"DrugExp\"\n",
    "LABEL_VAL = \"Severity\"\n",
    "\n",
    "## lists for ROC curves\n",
    "rocCurveData = []"
   ]
  },
  {
   "cell_type": "markdown",
   "metadata": {},
   "source": [
    "# 3. Load data"
   ]
  },
  {
   "cell_type": "code",
   "execution_count": 4,
   "metadata": {
    "collapsed": true
   },
   "outputs": [],
   "source": [
    "## input data files\n",
    "dataFileText = INPUT_PSYCHOMETRIC_DIMENSION + \"_Text\" +\".tsv\"\n",
    "dataFileStructured = INPUT_PSYCHOMETRIC_DIMENSION + \"_Structured\" +\".tsv\"\n",
    "delimiter = \"\\t\"\n",
    "\n",
    "## training, testing, and validation data\n",
    "inputDataTrain = pd.DataFrame(pd.read_csv(\"DrugExp/training_data/train_\" + dataFileText, delimiter))\n",
    "inputDataTest = pd.DataFrame(pd.read_csv(\"DrugExp/test_data/test_\" + dataFileText, delimiter))\n",
    "inputDataValidation = pd.DataFrame(pd.read_csv(\"DrugExp/validation_data/validation_\" + dataFileText, delimiter))\n",
    "\n",
    "## demographics data\n",
    "inputDataTrainStructured = pd.DataFrame(pd.read_csv(\"DrugExp/training_data/train_\" + dataFileStructured, delimiter))\n",
    "inputDataTestStructured = pd.DataFrame(pd.read_csv(\"DrugExp/test_data/test_\" + dataFileStructured, delimiter))\n",
    "inputDataValidationStructured = pd.DataFrame(pd.read_csv(\"DrugExp/validation_data/validation_\" + dataFileStructured, delimiter))"
   ]
  },
  {
   "cell_type": "code",
   "execution_count": 5,
   "metadata": {},
   "outputs": [
    {
     "data": {
      "text/html": [
       "<div>\n",
       "<style>\n",
       "    .dataframe thead tr:only-child th {\n",
       "        text-align: right;\n",
       "    }\n",
       "\n",
       "    .dataframe thead th {\n",
       "        text-align: left;\n",
       "    }\n",
       "\n",
       "    .dataframe tbody tr th {\n",
       "        vertical-align: top;\n",
       "    }\n",
       "</style>\n",
       "<table border=\"1\" class=\"dataframe\">\n",
       "  <thead>\n",
       "    <tr style=\"text-align: right;\">\n",
       "      <th></th>\n",
       "      <th>Label</th>\n",
       "      <th>Text</th>\n",
       "    </tr>\n",
       "  </thead>\n",
       "  <tbody>\n",
       "    <tr>\n",
       "      <th>0</th>\n",
       "      <td>-1</td>\n",
       "      <td>Schizophrenia Only been on it one day. I took ...</td>\n",
       "    </tr>\n",
       "    <tr>\n",
       "      <th>1</th>\n",
       "      <td>-1</td>\n",
       "      <td>Cancer drug arimidex gave me osteoporosis Took...</td>\n",
       "    </tr>\n",
       "    <tr>\n",
       "      <th>2</th>\n",
       "      <td>-1</td>\n",
       "      <td>Osteoporosis Dysphagia (inability to swallow)....</td>\n",
       "    </tr>\n",
       "    <tr>\n",
       "      <th>3</th>\n",
       "      <td>-1</td>\n",
       "      <td>Ostoclerosis Took it at 630 am by 230pm receiv...</td>\n",
       "    </tr>\n",
       "    <tr>\n",
       "      <th>4</th>\n",
       "      <td>-1</td>\n",
       "      <td>Osteopenia My limbs feel like I have weights t...</td>\n",
       "    </tr>\n",
       "  </tbody>\n",
       "</table>\n",
       "</div>"
      ],
      "text/plain": [
       "   Label                                               Text\n",
       "0     -1  Schizophrenia Only been on it one day. I took ...\n",
       "1     -1  Cancer drug arimidex gave me osteoporosis Took...\n",
       "2     -1  Osteoporosis Dysphagia (inability to swallow)....\n",
       "3     -1  Ostoclerosis Took it at 630 am by 230pm receiv...\n",
       "4     -1  Osteopenia My limbs feel like I have weights t..."
      ]
     },
     "execution_count": 5,
     "metadata": {},
     "output_type": "execute_result"
    }
   ],
   "source": [
    "inputDataTrain.head()"
   ]
  },
  {
   "cell_type": "markdown",
   "metadata": {},
   "source": [
    "Combine test, train, validation and create flag for test"
   ]
  },
  {
   "cell_type": "code",
   "execution_count": 6,
   "metadata": {
    "collapsed": true
   },
   "outputs": [],
   "source": [
    "inputDataTrain['is_test_set'] = 0.0\n",
    "inputDataValidation['is_test_set'] = 0.0\n",
    "inputDataTest['is_test_set'] = 1.0\n",
    "\n",
    "inputDataTrain['is_valid_set'] = 0.0\n",
    "inputDataValidation['is_valid_set'] = 1.0\n",
    "inputDataTest['is_valid_set'] = 0.0\n",
    "\n",
    "combinedDataUnstructured = inputDataTrain.append(inputDataValidation)\n",
    "combinedDataUnstructured = combinedDataUnstructured.append(inputDataTest)"
   ]
  },
  {
   "cell_type": "code",
   "execution_count": 7,
   "metadata": {
    "collapsed": true
   },
   "outputs": [],
   "source": [
    "inputDataTrainStructured['is_test_set'] = 0.0\n",
    "inputDataValidationStructured['is_test_set'] = 0.0\n",
    "inputDataTestStructured['is_test_set'] = 1.0\n",
    "\n",
    "inputDataTrainStructured['is_valid_set'] = 0.0\n",
    "inputDataValidationStructured['is_valid_set'] = 1.0\n",
    "inputDataTestStructured['is_valid_set'] = 0.0\n",
    "\n",
    "combinedDataStructured = inputDataTrainStructured.append(inputDataValidationStructured)\n",
    "combinedDataStructured = combinedDataStructured.append(inputDataTestStructured)"
   ]
  },
  {
   "cell_type": "markdown",
   "metadata": {},
   "source": [
    "# 4. Engineer features"
   ]
  },
  {
   "cell_type": "code",
   "execution_count": 8,
   "metadata": {
    "collapsed": true
   },
   "outputs": [],
   "source": [
    "combinedDataUnstructured = combinedDataUnstructured.reset_index(drop=False)  # First reset the index of the data frames.\n",
    "combinedDataStructured = combinedDataStructured.reset_index(drop=False)  # First reset the index of the data frames."
   ]
  },
  {
   "cell_type": "markdown",
   "metadata": {},
   "source": [
    "Lemmatize data"
   ]
  },
  {
   "cell_type": "code",
   "execution_count": 9,
   "metadata": {
    "collapsed": true
   },
   "outputs": [],
   "source": [
    "wordnet_lemmatizer = WordNetLemmatizer()\n",
    "stopset = list(set(stopwords.words('english')))\n",
    "cleaned_texts = []\n",
    "for text in combinedDataUnstructured['Text']:  # Loop through the tokens (the words or symbols) in each tweet.   \n",
    "    cleaned_text = text.lower()  # Convert the text to lower case\n",
    "    cleaned_text = ' '.join([word for word in cleaned_text.split() if word not in stopset])  # Keep only words that are not stopwords.\n",
    "    cleaned_text = ' '.join([wordnet_lemmatizer.lemmatize(word, pos='n') for word in cleaned_text.split()])  # Keep each noun's lemma.\n",
    "    cleaned_text = ' '.join([wordnet_lemmatizer.lemmatize(word, pos='v') for word in cleaned_text.split()])  # Keep each verb's lemma.\n",
    "    cleaned_text = re.sub(\"[^a-zA-Z]\",\" \", cleaned_text)  # Remove numbers and punctuation.\n",
    "    cleaned_text = ' '.join(cleaned_text.split())  # Remove white space.\n",
    "    cleaned_texts.append(cleaned_text)\n",
    "\n",
    "combinedDataUnstructured['cleanText'] = cleaned_texts"
   ]
  },
  {
   "cell_type": "markdown",
   "metadata": {},
   "source": [
    "Load happiness dictionary"
   ]
  },
  {
   "cell_type": "code",
   "execution_count": 10,
   "metadata": {
    "collapsed": true
   },
   "outputs": [],
   "source": [
    "import json\n",
    "import urllib.request\n",
    "url='http://hedonometer.org/api/v1/words/?format=json'\n",
    "data = urllib.request.urlopen(url).read().decode('utf-8')\n",
    "loaded_json = json.loads(data)\n",
    "happ_dict = loaded_json['objects']\n",
    "from pandas.io.json import json_normalize\n",
    "happ_df = json_normalize(happ_dict)"
   ]
  },
  {
   "cell_type": "markdown",
   "metadata": {},
   "source": [
    "Add happiness score"
   ]
  },
  {
   "cell_type": "code",
   "execution_count": 11,
   "metadata": {
    "collapsed": true
   },
   "outputs": [],
   "source": [
    "word_happs_df = happ_df[['word', 'happs']]"
   ]
  },
  {
   "cell_type": "code",
   "execution_count": 12,
   "metadata": {},
   "outputs": [
    {
     "name": "stdout",
     "output_type": "stream",
     "text": [
      "CPU times: user 49.6 s, sys: 4.9 ms, total: 49.6 s\n",
      "Wall time: 49.6 s\n"
     ]
    }
   ],
   "source": [
    "%%time\n",
    "happs_list = []\n",
    "for i in range(0, len(combinedDataUnstructured)):\n",
    "    text = combinedDataUnstructured.loc[i]['cleanText']\n",
    "    text_df = pd.DataFrame(pd.Series(text.split()), columns=['word'])\n",
    "    text_happs_df = pd.merge(text_df, word_happs_df, on='word')\n",
    "    happs_list.append(text_happs_df['happs'].sum())\n",
    "combinedDataUnstructured['happ_score'] = happs_list"
   ]
  },
  {
   "cell_type": "markdown",
   "metadata": {},
   "source": [
    "Load Harvard dictionaries"
   ]
  },
  {
   "cell_type": "code",
   "execution_count": 13,
   "metadata": {
    "collapsed": true
   },
   "outputs": [],
   "source": [
    "genInq_df = pd.read_csv('inquirerbasic.csv', encoding='latin-1', low_memory=False)\n",
    "genInq_df['Entry'] = [word.lower() for word in genInq_df['Entry']]"
   ]
  },
  {
   "cell_type": "markdown",
   "metadata": {},
   "source": [
    "Look at top words for positive and negatives"
   ]
  },
  {
   "cell_type": "code",
   "execution_count": 14,
   "metadata": {
    "scrolled": true
   },
   "outputs": [
    {
     "data": {
      "text/html": [
       "<div>\n",
       "<style>\n",
       "    .dataframe thead tr:only-child th {\n",
       "        text-align: right;\n",
       "    }\n",
       "\n",
       "    .dataframe thead th {\n",
       "        text-align: left;\n",
       "    }\n",
       "\n",
       "    .dataframe tbody tr th {\n",
       "        vertical-align: top;\n",
       "    }\n",
       "</style>\n",
       "<table border=\"1\" class=\"dataframe\">\n",
       "  <thead>\n",
       "    <tr style=\"text-align: right;\">\n",
       "      <th></th>\n",
       "      <th>Avg count (low severity)</th>\n",
       "      <th>Avg count (high severity)</th>\n",
       "    </tr>\n",
       "  </thead>\n",
       "  <tbody>\n",
       "    <tr>\n",
       "      <th>also</th>\n",
       "      <td>0.205851</td>\n",
       "      <td>NaN</td>\n",
       "    </tr>\n",
       "    <tr>\n",
       "      <th>anxiety</th>\n",
       "      <td>0.207825</td>\n",
       "      <td>0.253988</td>\n",
       "    </tr>\n",
       "    <tr>\n",
       "      <th>back</th>\n",
       "      <td>0.233848</td>\n",
       "      <td>0.290160</td>\n",
       "    </tr>\n",
       "    <tr>\n",
       "      <th>day</th>\n",
       "      <td>0.722362</td>\n",
       "      <td>0.704154</td>\n",
       "    </tr>\n",
       "    <tr>\n",
       "      <th>depression</th>\n",
       "      <td>NaN</td>\n",
       "      <td>0.254462</td>\n",
       "    </tr>\n",
       "    <tr>\n",
       "      <th>doctor</th>\n",
       "      <td>NaN</td>\n",
       "      <td>0.281156</td>\n",
       "    </tr>\n",
       "    <tr>\n",
       "      <th>drug</th>\n",
       "      <td>0.363963</td>\n",
       "      <td>0.476228</td>\n",
       "    </tr>\n",
       "    <tr>\n",
       "      <th>effect</th>\n",
       "      <td>0.494436</td>\n",
       "      <td>0.408308</td>\n",
       "    </tr>\n",
       "    <tr>\n",
       "      <th>feel</th>\n",
       "      <td>0.382627</td>\n",
       "      <td>0.474807</td>\n",
       "    </tr>\n",
       "    <tr>\n",
       "      <th>first</th>\n",
       "      <td>0.273690</td>\n",
       "      <td>NaN</td>\n",
       "    </tr>\n",
       "    <tr>\n",
       "      <th>gain</th>\n",
       "      <td>NaN</td>\n",
       "      <td>0.260464</td>\n",
       "    </tr>\n",
       "    <tr>\n",
       "      <th>get</th>\n",
       "      <td>0.542534</td>\n",
       "      <td>0.570526</td>\n",
       "    </tr>\n",
       "    <tr>\n",
       "      <th>go</th>\n",
       "      <td>0.379756</td>\n",
       "      <td>0.505765</td>\n",
       "    </tr>\n",
       "    <tr>\n",
       "      <th>help</th>\n",
       "      <td>0.302405</td>\n",
       "      <td>NaN</td>\n",
       "    </tr>\n",
       "    <tr>\n",
       "      <th>life</th>\n",
       "      <td>0.218952</td>\n",
       "      <td>NaN</td>\n",
       "    </tr>\n",
       "    <tr>\n",
       "      <th>like</th>\n",
       "      <td>0.291816</td>\n",
       "      <td>0.421576</td>\n",
       "    </tr>\n",
       "    <tr>\n",
       "      <th>loss</th>\n",
       "      <td>NaN</td>\n",
       "      <td>0.234244</td>\n",
       "    </tr>\n",
       "    <tr>\n",
       "      <th>make</th>\n",
       "      <td>0.213388</td>\n",
       "      <td>NaN</td>\n",
       "    </tr>\n",
       "    <tr>\n",
       "      <th>mg</th>\n",
       "      <td>0.351220</td>\n",
       "      <td>NaN</td>\n",
       "    </tr>\n",
       "    <tr>\n",
       "      <th>month</th>\n",
       "      <td>0.298098</td>\n",
       "      <td>0.361712</td>\n",
       "    </tr>\n",
       "    <tr>\n",
       "      <th>never</th>\n",
       "      <td>NaN</td>\n",
       "      <td>0.292055</td>\n",
       "    </tr>\n",
       "    <tr>\n",
       "      <th>one</th>\n",
       "      <td>0.203877</td>\n",
       "      <td>NaN</td>\n",
       "    </tr>\n",
       "    <tr>\n",
       "      <th>pain</th>\n",
       "      <td>0.406138</td>\n",
       "      <td>0.574159</td>\n",
       "    </tr>\n",
       "    <tr>\n",
       "      <th>period</th>\n",
       "      <td>0.306174</td>\n",
       "      <td>0.317169</td>\n",
       "    </tr>\n",
       "    <tr>\n",
       "      <th>severe</th>\n",
       "      <td>NaN</td>\n",
       "      <td>0.248618</td>\n",
       "    </tr>\n",
       "    <tr>\n",
       "      <th>shoot</th>\n",
       "      <td>NaN</td>\n",
       "      <td>0.283841</td>\n",
       "    </tr>\n",
       "    <tr>\n",
       "      <th>side</th>\n",
       "      <td>0.485463</td>\n",
       "      <td>0.432475</td>\n",
       "    </tr>\n",
       "    <tr>\n",
       "      <th>start</th>\n",
       "      <td>0.307430</td>\n",
       "      <td>0.337545</td>\n",
       "    </tr>\n",
       "    <tr>\n",
       "      <th>still</th>\n",
       "      <td>NaN</td>\n",
       "      <td>0.256200</td>\n",
       "    </tr>\n",
       "    <tr>\n",
       "      <th>stop</th>\n",
       "      <td>NaN</td>\n",
       "      <td>0.297109</td>\n",
       "    </tr>\n",
       "    <tr>\n",
       "      <th>take</th>\n",
       "      <td>1.119526</td>\n",
       "      <td>1.165219</td>\n",
       "    </tr>\n",
       "    <tr>\n",
       "      <th>think</th>\n",
       "      <td>NaN</td>\n",
       "      <td>0.291265</td>\n",
       "    </tr>\n",
       "    <tr>\n",
       "      <th>time</th>\n",
       "      <td>0.370244</td>\n",
       "      <td>0.345443</td>\n",
       "    </tr>\n",
       "    <tr>\n",
       "      <th>try</th>\n",
       "      <td>0.216080</td>\n",
       "      <td>NaN</td>\n",
       "    </tr>\n",
       "    <tr>\n",
       "      <th>use</th>\n",
       "      <td>0.200646</td>\n",
       "      <td>NaN</td>\n",
       "    </tr>\n",
       "    <tr>\n",
       "      <th>week</th>\n",
       "      <td>0.231515</td>\n",
       "      <td>0.247354</td>\n",
       "    </tr>\n",
       "    <tr>\n",
       "      <th>weight</th>\n",
       "      <td>0.259691</td>\n",
       "      <td>0.284631</td>\n",
       "    </tr>\n",
       "    <tr>\n",
       "      <th>work</th>\n",
       "      <td>0.406317</td>\n",
       "      <td>NaN</td>\n",
       "    </tr>\n",
       "    <tr>\n",
       "      <th>would</th>\n",
       "      <td>0.223439</td>\n",
       "      <td>0.316854</td>\n",
       "    </tr>\n",
       "    <tr>\n",
       "      <th>year</th>\n",
       "      <td>0.386935</td>\n",
       "      <td>0.258569</td>\n",
       "    </tr>\n",
       "  </tbody>\n",
       "</table>\n",
       "</div>"
      ],
      "text/plain": [
       "            Avg count (low severity)  Avg count (high severity)\n",
       "also                        0.205851                        NaN\n",
       "anxiety                     0.207825                   0.253988\n",
       "back                        0.233848                   0.290160\n",
       "day                         0.722362                   0.704154\n",
       "depression                       NaN                   0.254462\n",
       "doctor                           NaN                   0.281156\n",
       "drug                        0.363963                   0.476228\n",
       "effect                      0.494436                   0.408308\n",
       "feel                        0.382627                   0.474807\n",
       "first                       0.273690                        NaN\n",
       "gain                             NaN                   0.260464\n",
       "get                         0.542534                   0.570526\n",
       "go                          0.379756                   0.505765\n",
       "help                        0.302405                        NaN\n",
       "life                        0.218952                        NaN\n",
       "like                        0.291816                   0.421576\n",
       "loss                             NaN                   0.234244\n",
       "make                        0.213388                        NaN\n",
       "mg                          0.351220                        NaN\n",
       "month                       0.298098                   0.361712\n",
       "never                            NaN                   0.292055\n",
       "one                         0.203877                        NaN\n",
       "pain                        0.406138                   0.574159\n",
       "period                      0.306174                   0.317169\n",
       "severe                           NaN                   0.248618\n",
       "shoot                            NaN                   0.283841\n",
       "side                        0.485463                   0.432475\n",
       "start                       0.307430                   0.337545\n",
       "still                            NaN                   0.256200\n",
       "stop                             NaN                   0.297109\n",
       "take                        1.119526                   1.165219\n",
       "think                            NaN                   0.291265\n",
       "time                        0.370244                   0.345443\n",
       "try                         0.216080                        NaN\n",
       "use                         0.200646                        NaN\n",
       "week                        0.231515                   0.247354\n",
       "weight                      0.259691                   0.284631\n",
       "work                        0.406317                        NaN\n",
       "would                       0.223439                   0.316854\n",
       "year                        0.386935                   0.258569"
      ]
     },
     "execution_count": 14,
     "metadata": {},
     "output_type": "execute_result"
    }
   ],
   "source": [
    "df_neg = combinedDataUnstructured[combinedDataUnstructured['Label'] == -1]\n",
    "df_pos = combinedDataUnstructured[combinedDataUnstructured['Label'] == 1]\n",
    "\n",
    "corpus = list(df_pos['cleanText'])\n",
    "corpus_vectorizer = CountVectorizer(ngram_range=(1, 1), max_features=30)\n",
    "bag_of_words_pos = corpus_vectorizer.fit_transform(corpus)\n",
    "bag_of_words_pos_df = pd.DataFrame(bag_of_words_pos.toarray(), columns=corpus_vectorizer.get_feature_names())\n",
    "\n",
    "corpus = list(df_neg['cleanText'])\n",
    "corpus_vectorizer = CountVectorizer(ngram_range=(1, 1), max_features=30)\n",
    "bag_of_words_neg = corpus_vectorizer.fit_transform(corpus)\n",
    "bag_of_words_neg_df = pd.DataFrame(bag_of_words_neg.toarray(), columns=corpus_vectorizer.get_feature_names())\n",
    "\n",
    "freq_words_pos = pd.DataFrame(bag_of_words_pos_df.mean(axis=0), \n",
    "                                     index=bag_of_words_pos_df.columns, columns=['Avg count (low severity)'])\n",
    "freq_words_neg = pd.DataFrame(bag_of_words_neg_df.mean(axis=0), \n",
    "                                     index=bag_of_words_neg_df.columns, columns=['Avg count (high severity)'])\n",
    "\n",
    "freq_words_pos.join(freq_words_neg, how='outer')"
   ]
  },
  {
   "cell_type": "code",
   "execution_count": 15,
   "metadata": {
    "scrolled": true
   },
   "outputs": [
    {
     "data": {
      "text/html": [
       "<div>\n",
       "<style>\n",
       "    .dataframe thead tr:only-child th {\n",
       "        text-align: right;\n",
       "    }\n",
       "\n",
       "    .dataframe thead th {\n",
       "        text-align: left;\n",
       "    }\n",
       "\n",
       "    .dataframe tbody tr th {\n",
       "        vertical-align: top;\n",
       "    }\n",
       "</style>\n",
       "<table border=\"1\" class=\"dataframe\">\n",
       "  <thead>\n",
       "    <tr style=\"text-align: right;\">\n",
       "      <th></th>\n",
       "      <th>Avg count (low severity)</th>\n",
       "      <th>Avg count (high severity)</th>\n",
       "    </tr>\n",
       "  </thead>\n",
       "  <tbody>\n",
       "    <tr>\n",
       "      <th>back pain</th>\n",
       "      <td>0.032843</td>\n",
       "      <td>0.059074</td>\n",
       "    </tr>\n",
       "    <tr>\n",
       "      <th>birth control</th>\n",
       "      <td>0.066583</td>\n",
       "      <td>0.147054</td>\n",
       "    </tr>\n",
       "    <tr>\n",
       "      <th>blood pressure</th>\n",
       "      <td>0.029971</td>\n",
       "      <td>0.046596</td>\n",
       "    </tr>\n",
       "    <tr>\n",
       "      <th>day take</th>\n",
       "      <td>0.038227</td>\n",
       "      <td>0.033486</td>\n",
       "    </tr>\n",
       "    <tr>\n",
       "      <th>depression anxiety</th>\n",
       "      <td>NaN</td>\n",
       "      <td>0.030643</td>\n",
       "    </tr>\n",
       "    <tr>\n",
       "      <th>dry mouth</th>\n",
       "      <td>0.094401</td>\n",
       "      <td>0.033486</td>\n",
       "    </tr>\n",
       "    <tr>\n",
       "      <th>every day</th>\n",
       "      <td>0.027818</td>\n",
       "      <td>NaN</td>\n",
       "    </tr>\n",
       "    <tr>\n",
       "      <th>feel like</th>\n",
       "      <td>0.058507</td>\n",
       "      <td>0.102353</td>\n",
       "    </tr>\n",
       "    <tr>\n",
       "      <th>felt like</th>\n",
       "      <td>NaN</td>\n",
       "      <td>0.068394</td>\n",
       "    </tr>\n",
       "    <tr>\n",
       "      <th>first day</th>\n",
       "      <td>0.027279</td>\n",
       "      <td>NaN</td>\n",
       "    </tr>\n",
       "    <tr>\n",
       "      <th>first time</th>\n",
       "      <td>0.031945</td>\n",
       "      <td>NaN</td>\n",
       "    </tr>\n",
       "    <tr>\n",
       "      <th>get shoot</th>\n",
       "      <td>NaN</td>\n",
       "      <td>0.031591</td>\n",
       "    </tr>\n",
       "    <tr>\n",
       "      <th>go away</th>\n",
       "      <td>0.050431</td>\n",
       "      <td>0.054494</td>\n",
       "    </tr>\n",
       "    <tr>\n",
       "      <th>go back</th>\n",
       "      <td>0.028715</td>\n",
       "      <td>0.040120</td>\n",
       "    </tr>\n",
       "    <tr>\n",
       "      <th>hair loss</th>\n",
       "      <td>NaN</td>\n",
       "      <td>0.053388</td>\n",
       "    </tr>\n",
       "    <tr>\n",
       "      <th>hot flash</th>\n",
       "      <td>0.033561</td>\n",
       "      <td>0.030169</td>\n",
       "    </tr>\n",
       "    <tr>\n",
       "      <th>joint pain</th>\n",
       "      <td>NaN</td>\n",
       "      <td>0.042647</td>\n",
       "    </tr>\n",
       "    <tr>\n",
       "      <th>long term</th>\n",
       "      <td>0.028715</td>\n",
       "      <td>NaN</td>\n",
       "    </tr>\n",
       "    <tr>\n",
       "      <th>lose weight</th>\n",
       "      <td>0.027818</td>\n",
       "      <td>NaN</td>\n",
       "    </tr>\n",
       "    <tr>\n",
       "      <th>loss appetite</th>\n",
       "      <td>0.037330</td>\n",
       "      <td>0.036329</td>\n",
       "    </tr>\n",
       "    <tr>\n",
       "      <th>make feel</th>\n",
       "      <td>NaN</td>\n",
       "      <td>0.031275</td>\n",
       "    </tr>\n",
       "    <tr>\n",
       "      <th>mg day</th>\n",
       "      <td>0.053841</td>\n",
       "      <td>NaN</td>\n",
       "    </tr>\n",
       "    <tr>\n",
       "      <th>mood swing</th>\n",
       "      <td>0.050431</td>\n",
       "      <td>0.117359</td>\n",
       "    </tr>\n",
       "    <tr>\n",
       "      <th>much better</th>\n",
       "      <td>0.031587</td>\n",
       "      <td>NaN</td>\n",
       "    </tr>\n",
       "    <tr>\n",
       "      <th>never take</th>\n",
       "      <td>NaN</td>\n",
       "      <td>0.060338</td>\n",
       "    </tr>\n",
       "    <tr>\n",
       "      <th>panic attack</th>\n",
       "      <td>NaN</td>\n",
       "      <td>0.044859</td>\n",
       "    </tr>\n",
       "    <tr>\n",
       "      <th>sex drive</th>\n",
       "      <td>0.045944</td>\n",
       "      <td>0.097299</td>\n",
       "    </tr>\n",
       "    <tr>\n",
       "      <th>side effect</th>\n",
       "      <td>0.411522</td>\n",
       "      <td>0.342126</td>\n",
       "    </tr>\n",
       "    <tr>\n",
       "      <th>side effects</th>\n",
       "      <td>0.031048</td>\n",
       "      <td>0.040278</td>\n",
       "    </tr>\n",
       "    <tr>\n",
       "      <th>start take</th>\n",
       "      <td>0.047380</td>\n",
       "      <td>0.040120</td>\n",
       "    </tr>\n",
       "    <tr>\n",
       "      <th>stop take</th>\n",
       "      <td>0.033381</td>\n",
       "      <td>0.073132</td>\n",
       "    </tr>\n",
       "    <tr>\n",
       "      <th>take drug</th>\n",
       "      <td>0.030330</td>\n",
       "      <td>0.077397</td>\n",
       "    </tr>\n",
       "    <tr>\n",
       "      <th>take it</th>\n",
       "      <td>NaN</td>\n",
       "      <td>0.031749</td>\n",
       "    </tr>\n",
       "    <tr>\n",
       "      <th>take medication</th>\n",
       "      <td>NaN</td>\n",
       "      <td>0.038856</td>\n",
       "    </tr>\n",
       "    <tr>\n",
       "      <th>take mg</th>\n",
       "      <td>0.071608</td>\n",
       "      <td>0.030169</td>\n",
       "    </tr>\n",
       "    <tr>\n",
       "      <th>take pill</th>\n",
       "      <td>0.038945</td>\n",
       "      <td>0.042647</td>\n",
       "    </tr>\n",
       "    <tr>\n",
       "      <th>weight gain</th>\n",
       "      <td>0.107681</td>\n",
       "      <td>0.172801</td>\n",
       "    </tr>\n",
       "    <tr>\n",
       "      <th>weight loss</th>\n",
       "      <td>0.046303</td>\n",
       "      <td>NaN</td>\n",
       "    </tr>\n",
       "    <tr>\n",
       "      <th>work well</th>\n",
       "      <td>0.037330</td>\n",
       "      <td>NaN</td>\n",
       "    </tr>\n",
       "    <tr>\n",
       "      <th>year ago</th>\n",
       "      <td>0.036253</td>\n",
       "      <td>NaN</td>\n",
       "    </tr>\n",
       "  </tbody>\n",
       "</table>\n",
       "</div>"
      ],
      "text/plain": [
       "                    Avg count (low severity)  Avg count (high severity)\n",
       "back pain                           0.032843                   0.059074\n",
       "birth control                       0.066583                   0.147054\n",
       "blood pressure                      0.029971                   0.046596\n",
       "day take                            0.038227                   0.033486\n",
       "depression anxiety                       NaN                   0.030643\n",
       "dry mouth                           0.094401                   0.033486\n",
       "every day                           0.027818                        NaN\n",
       "feel like                           0.058507                   0.102353\n",
       "felt like                                NaN                   0.068394\n",
       "first day                           0.027279                        NaN\n",
       "first time                          0.031945                        NaN\n",
       "get shoot                                NaN                   0.031591\n",
       "go away                             0.050431                   0.054494\n",
       "go back                             0.028715                   0.040120\n",
       "hair loss                                NaN                   0.053388\n",
       "hot flash                           0.033561                   0.030169\n",
       "joint pain                               NaN                   0.042647\n",
       "long term                           0.028715                        NaN\n",
       "lose weight                         0.027818                        NaN\n",
       "loss appetite                       0.037330                   0.036329\n",
       "make feel                                NaN                   0.031275\n",
       "mg day                              0.053841                        NaN\n",
       "mood swing                          0.050431                   0.117359\n",
       "much better                         0.031587                        NaN\n",
       "never take                               NaN                   0.060338\n",
       "panic attack                             NaN                   0.044859\n",
       "sex drive                           0.045944                   0.097299\n",
       "side effect                         0.411522                   0.342126\n",
       "side effects                        0.031048                   0.040278\n",
       "start take                          0.047380                   0.040120\n",
       "stop take                           0.033381                   0.073132\n",
       "take drug                           0.030330                   0.077397\n",
       "take it                                  NaN                   0.031749\n",
       "take medication                          NaN                   0.038856\n",
       "take mg                             0.071608                   0.030169\n",
       "take pill                           0.038945                   0.042647\n",
       "weight gain                         0.107681                   0.172801\n",
       "weight loss                         0.046303                        NaN\n",
       "work well                           0.037330                        NaN\n",
       "year ago                            0.036253                        NaN"
      ]
     },
     "execution_count": 15,
     "metadata": {},
     "output_type": "execute_result"
    }
   ],
   "source": [
    "df_neg = combinedDataUnstructured[combinedDataUnstructured['Label'] == -1]\n",
    "df_pos = combinedDataUnstructured[combinedDataUnstructured['Label'] == 1]\n",
    "\n",
    "corpus = list(df_pos['cleanText'])\n",
    "corpus_vectorizer = CountVectorizer(ngram_range=(2, 2), max_features=30)\n",
    "bag_of_words_pos = corpus_vectorizer.fit_transform(corpus)\n",
    "bag_of_words_pos_df = pd.DataFrame(bag_of_words_pos.toarray(), columns=corpus_vectorizer.get_feature_names())\n",
    "\n",
    "corpus = list(df_neg['cleanText'])\n",
    "corpus_vectorizer = CountVectorizer(ngram_range=(2, 2), max_features=30)\n",
    "bag_of_words_neg = corpus_vectorizer.fit_transform(corpus)\n",
    "bag_of_words_neg_df = pd.DataFrame(bag_of_words_neg.toarray(), columns=corpus_vectorizer.get_feature_names())\n",
    "\n",
    "freq_words_pos = pd.DataFrame(bag_of_words_pos_df.mean(axis=0), \n",
    "                                     index=bag_of_words_pos_df.columns, columns=['Avg count (low severity)'])\n",
    "freq_words_neg = pd.DataFrame(bag_of_words_neg_df.mean(axis=0), \n",
    "                                     index=bag_of_words_neg_df.columns, columns=['Avg count (high severity)'])\n",
    "\n",
    "freq_words_pos.join(freq_words_neg, how='outer')"
   ]
  },
  {
   "cell_type": "code",
   "execution_count": 16,
   "metadata": {},
   "outputs": [],
   "source": [
    "Feel_dummy_df = pd.get_dummies(genInq_df[['Entry','Feel']], prefix=['contains'], columns=['Feel'])\n",
    "Feel_dummy_df.head()\n",
    "\n",
    "Feel_list = []\n",
    "for i in range(0, len(combinedDataUnstructured)):\n",
    "    text = combinedDataUnstructured.loc[i]['cleanText']\n",
    "    text_df = pd.DataFrame(pd.Series(text.split()), columns=['Entry'])\n",
    "    text_Feel_df = pd.merge(text_df, Feel_dummy_df, on='Entry')\n",
    "    Feel_list.append(text_Feel_df['contains_Feel'].sum())\n",
    "combinedDataUnstructured['Feel_score'] = Feel_list"
   ]
  },
  {
   "cell_type": "code",
   "execution_count": 17,
   "metadata": {},
   "outputs": [
    {
     "data": {
      "text/plain": [
       "0    11594\n",
       "1      272\n",
       "2       30\n",
       "3        5\n",
       "4        2\n",
       "Name: Feel_score, dtype: int64"
      ]
     },
     "execution_count": 17,
     "metadata": {},
     "output_type": "execute_result"
    }
   ],
   "source": [
    "combinedDataUnstructured['Feel_score'].value_counts(dropna=False)"
   ]
  },
  {
   "cell_type": "code",
   "execution_count": 18,
   "metadata": {
    "collapsed": true
   },
   "outputs": [],
   "source": [
    "Negativ_dummy_df = pd.get_dummies(genInq_df[['Entry','Negativ']], prefix=['contains'], columns=['Negativ'])\n",
    "Negativ_dummy_df.head()\n",
    "\n",
    "Negativ_list = []\n",
    "for i in range(0, len(combinedDataUnstructured)):\n",
    "    text = combinedDataUnstructured.loc[i]['cleanText']\n",
    "    text_df = pd.DataFrame(pd.Series(text.split()), columns=['Entry'])\n",
    "    text_Negativ_df = pd.merge(text_df, Negativ_dummy_df, on='Entry')\n",
    "    Negativ_list.append(text_Negativ_df['contains_Negativ'].sum())\n",
    "combinedDataUnstructured['Negativ_score'] = Negativ_list"
   ]
  },
  {
   "cell_type": "code",
   "execution_count": 19,
   "metadata": {},
   "outputs": [
    {
     "data": {
      "text/plain": [
       "2     1739\n",
       "3     1644\n",
       "1     1594\n",
       "4     1389\n",
       "5     1137\n",
       "0     1040\n",
       "6      855\n",
       "7      671\n",
       "8      533\n",
       "9      349\n",
       "10     252\n",
       "11     197\n",
       "12     144\n",
       "13      88\n",
       "14      65\n",
       "16      50\n",
       "15      50\n",
       "17      28\n",
       "18      19\n",
       "19      13\n",
       "20      12\n",
       "21       9\n",
       "23       7\n",
       "22       5\n",
       "26       4\n",
       "27       4\n",
       "24       3\n",
       "61       1\n",
       "30       1\n",
       "Name: Negativ_score, dtype: int64"
      ]
     },
     "execution_count": 19,
     "metadata": {},
     "output_type": "execute_result"
    }
   ],
   "source": [
    "combinedDataUnstructured['Negativ_score'].value_counts(dropna=False)"
   ]
  },
  {
   "cell_type": "code",
   "execution_count": 20,
   "metadata": {
    "collapsed": true
   },
   "outputs": [],
   "source": [
    "Positiv_dummy_df = pd.get_dummies(genInq_df[['Entry','Positiv']], prefix=['contains'], columns=['Positiv'])\n",
    "Positiv_dummy_df.head()\n",
    "\n",
    "Positiv_list = []\n",
    "for i in range(0, len(combinedDataUnstructured)):\n",
    "    text = combinedDataUnstructured.loc[i]['cleanText']\n",
    "    text_df = pd.DataFrame(pd.Series(text.split()), columns=['Entry'])\n",
    "    text_Positiv_df = pd.merge(text_df, Positiv_dummy_df, on='Entry')\n",
    "    Positiv_list.append(text_Positiv_df['contains_Positiv'].sum())\n",
    "combinedDataUnstructured['Positiv_score'] = Positiv_list"
   ]
  },
  {
   "cell_type": "code",
   "execution_count": 21,
   "metadata": {},
   "outputs": [
    {
     "data": {
      "text/plain": [
       "0     5863\n",
       "1     3112\n",
       "2     1520\n",
       "3      702\n",
       "4      345\n",
       "5      186\n",
       "6       82\n",
       "7       43\n",
       "8       30\n",
       "10       7\n",
       "9        7\n",
       "11       3\n",
       "15       2\n",
       "13       1\n",
       "Name: Positiv_score, dtype: int64"
      ]
     },
     "execution_count": 21,
     "metadata": {},
     "output_type": "execute_result"
    }
   ],
   "source": [
    "combinedDataUnstructured['Positiv_score'].value_counts(dropna=False)"
   ]
  },
  {
   "cell_type": "code",
   "execution_count": 22,
   "metadata": {
    "collapsed": true
   },
   "outputs": [],
   "source": [
    "Pain_dummy_df = pd.get_dummies(genInq_df[['Entry','Pain']], prefix=['contains'], columns=['Pain'])\n",
    "Pain_dummy_df.head()\n",
    "\n",
    "Pain_list = []\n",
    "for i in range(0, len(combinedDataUnstructured)):\n",
    "    text = combinedDataUnstructured.loc[i]['cleanText']\n",
    "    text_df = pd.DataFrame(pd.Series(text.split()), columns=['Entry'])\n",
    "    text_Pain_df = pd.merge(text_df, Pain_dummy_df, on='Entry')\n",
    "    Pain_list.append(text_Pain_df['contains_Pain'].sum())\n",
    "combinedDataUnstructured['Pain_score'] = Pain_list"
   ]
  },
  {
   "cell_type": "code",
   "execution_count": 23,
   "metadata": {},
   "outputs": [
    {
     "data": {
      "text/plain": [
       "0     4566\n",
       "1     3045\n",
       "2     2003\n",
       "3     1121\n",
       "4      542\n",
       "5      304\n",
       "6      154\n",
       "7       75\n",
       "8       37\n",
       "9       25\n",
       "10      13\n",
       "11       9\n",
       "13       3\n",
       "12       3\n",
       "14       2\n",
       "15       1\n",
       "Name: Pain_score, dtype: int64"
      ]
     },
     "execution_count": 23,
     "metadata": {},
     "output_type": "execute_result"
    }
   ],
   "source": [
    "combinedDataUnstructured['Pain_score'].value_counts(dropna=False)"
   ]
  },
  {
   "cell_type": "markdown",
   "metadata": {},
   "source": [
    "Create matrix of bag of words"
   ]
  },
  {
   "cell_type": "code",
   "execution_count": 24,
   "metadata": {
    "collapsed": true
   },
   "outputs": [],
   "source": [
    "corpus = list(combinedDataUnstructured['cleanText'])\n",
    "corpus_vectorizer = CountVectorizer(ngram_range=(1,2), max_features=500)\n",
    "bag_of_words = corpus_vectorizer.fit_transform(corpus)\n",
    "bag_of_words_df = pd.DataFrame(bag_of_words.toarray(), columns=corpus_vectorizer.get_feature_names())\n",
    "combinedDataUnstructured = combinedDataUnstructured.join(bag_of_words_df, lsuffix='', rsuffix='_1')"
   ]
  },
  {
   "cell_type": "markdown",
   "metadata": {},
   "source": [
    "Combine with the other data"
   ]
  },
  {
   "cell_type": "code",
   "execution_count": 25,
   "metadata": {
    "collapsed": true
   },
   "outputs": [],
   "source": [
    "combinedData = pd.merge(combinedDataUnstructured, combinedDataStructured, left_on=['index','is_valid_set','is_test_set'], right_on = ['index','is_valid_set','is_test_set'], how='left')"
   ]
  },
  {
   "cell_type": "markdown",
   "metadata": {},
   "source": [
    "Create dummies for drugs"
   ]
  },
  {
   "cell_type": "code",
   "execution_count": 26,
   "metadata": {},
   "outputs": [
    {
     "data": {
      "text/plain": [
       "DEPO-PROVERA                         1555\n",
       "FLAGYL                                994\n",
       "PROVERA                               690\n",
       "ADDERALL+10                           518\n",
       "ELAVIL                                319\n",
       "CLOMID                                303\n",
       "MICRONOR                              290\n",
       "HUMIRA                                268\n",
       "ENBREL                                265\n",
       "VALIUM                                264\n",
       "REMICADE                              257\n",
       "CYMBALTA                              216\n",
       "MACROBID                              214\n",
       "SOMA                                  208\n",
       "IMURAN                                198\n",
       "COMPAZINE                             189\n",
       "SKELAXIN                              175\n",
       "LEXAPRO                               141\n",
       "KENALOG-40                            140\n",
       "CYTOMEL                               138\n",
       "LEVAQUIN                              131\n",
       "RITALIN                               117\n",
       "HALDOL                                109\n",
       "MEDROL                                106\n",
       "DILANTIN                              105\n",
       "TOPAMAX                               103\n",
       "ZOLOFT                                101\n",
       "VISTARIL                              100\n",
       "BACTRIM                                98\n",
       "LAMICTAL                               97\n",
       "                                     ... \n",
       "SYNALAR                                 2\n",
       "LORATADINE                              2\n",
       "BELVIQ                                  2\n",
       "PERSANTINE                              2\n",
       "RITUXAN                                 2\n",
       "ALUPENT                                 2\n",
       "PANTOPRAZOLE SODIUM                     2\n",
       "CIPRO                                   2\n",
       "QUIXIN                                  2\n",
       "ILOSONE                                 2\n",
       "DRIXORAL                                2\n",
       "DIMETAPP                                2\n",
       "CIMZIA                                  1\n",
       "FLAGYL+ER                               1\n",
       "LIMBITROL                               1\n",
       "RIFAMPIN                                1\n",
       "SURMONTIL                               1\n",
       "NUMORPHAN                               1\n",
       "ADDERALL+XR+10                          1\n",
       "OVRAL-28                                1\n",
       "TRANXENE+SD                             1\n",
       "ISORDIL                                 1\n",
       "COLBENEMID                              1\n",
       "HYGROTON                                1\n",
       "KETAMINE HYDROCHLORIDE                  1\n",
       "MOBAN                                   1\n",
       "PHENERGAN+W_252F+DEXTROMETHORPHAN       1\n",
       "DYRENIUM                                1\n",
       "PACERONE                                1\n",
       "A/T/S                                   1\n",
       "Name: Drug, Length: 227, dtype: int64"
      ]
     },
     "execution_count": 26,
     "metadata": {},
     "output_type": "execute_result"
    }
   ],
   "source": [
    "combinedData['Drug'].value_counts(dropna=False)"
   ]
  },
  {
   "cell_type": "code",
   "execution_count": 27,
   "metadata": {
    "collapsed": true
   },
   "outputs": [],
   "source": [
    "combinedData['is_DEPO_PROVERA'] = 0\n",
    "combinedData.loc[combinedData['Drug']=='DEPO-PROVERA', 'is_DEPO_PROVERA'] = 1\n",
    "\n",
    "combinedData['is_FLAGYL'] = 0\n",
    "combinedData.loc[combinedData['Drug']=='FLAGYL', 'is_FLAGYL'] = 1\n",
    "\n",
    "combinedData['is_PROVERA'] = 0\n",
    "combinedData.loc[combinedData['Drug']=='PROVERA', 'is_PROVERA'] = 1\n",
    "\n",
    "combinedData['is_ADDERALL_10'] = 0\n",
    "combinedData.loc[combinedData['Drug']=='ADDERALL+10', 'is_ADDERALL_10'] = 1\n",
    "\n",
    "combinedData['is_ELAVIL'] = 0\n",
    "combinedData.loc[combinedData['Drug']=='ELAVIL', 'is_ELAVIL'] = 1\n",
    "\n",
    "combinedData['is_CLOMID'] = 0\n",
    "combinedData.loc[combinedData['Drug']=='CLOMID', 'is_CLOMID'] = 1\n",
    "\n",
    "combinedData['is_MICRONOR'] = 0\n",
    "combinedData.loc[combinedData['Drug']=='MICRONOR', 'is_MICRONOR'] = 1\n",
    "\n",
    "combinedData['is_HUMIRA'] = 0\n",
    "combinedData.loc[combinedData['Drug']=='HUMIRA', 'is_HUMIRA'] = 1\n",
    "\n",
    "combinedData['is_ENBREL'] = 0\n",
    "combinedData.loc[combinedData['Drug']=='ENBREL', 'is_ENBREL'] = 1      \n",
    "\n",
    "combinedData['is_VALIUM'] = 0\n",
    "combinedData.loc[combinedData['Drug']=='VALIUM', 'is_VALIUM'] = 1        \n",
    "\n",
    "combinedData['is_REMICADE'] = 0\n",
    "combinedData.loc[combinedData['Drug']=='REMICADE', 'is_REMICADE'] = 1  \n",
    "\n",
    "combinedData['is_CYMBALTA'] = 0\n",
    "combinedData.loc[combinedData['Drug']=='CYMBALTA', 'is_CYMBALTA'] = 1      \n",
    "\n",
    "combinedData['is_MACROBID'] = 0\n",
    "combinedData.loc[combinedData['Drug']=='MACROBID', 'is_MACROBID'] = 1  \n",
    "\n",
    "combinedData['is_SOMA'] = 0\n",
    "combinedData.loc[combinedData['Drug']=='SOMA', 'is_SOMA'] = 1       \n",
    "\n",
    "combinedData['is_IMURAN'] = 0\n",
    "combinedData.loc[combinedData['Drug']=='IMURAN', 'is_IMURAN'] = 1           \n",
    "\n",
    "combinedData['is_COMPAZINE'] = 0\n",
    "combinedData.loc[combinedData['Drug']=='COMPAZINE', 'is_COMPAZINE'] = 1 \n",
    "\n",
    "combinedData['is_SKELAXIN'] = 0\n",
    "combinedData.loc[combinedData['Drug']=='SKELAXIN', 'is_SKELAXIN'] = 1    \n",
    "\n",
    "combinedData['is_LEXAPRO'] = 0\n",
    "combinedData.loc[combinedData['Drug']=='LEXAPRO', 'is_LEXAPRO'] = 1  \n",
    "\n",
    "combinedData['is_KENALOG_40'] = 0\n",
    "combinedData.loc[combinedData['Drug']=='KENALOG-40', 'is_KENALOG_40'] = 1        \n",
    " \n",
    "combinedData['is_CYTOMEL'] = 0\n",
    "combinedData.loc[combinedData['Drug']=='CYTOMEL', 'is_CYTOMEL'] = 1  \n",
    "\n",
    "combinedData['is_LEVAQUIN'] = 0\n",
    "combinedData.loc[combinedData['Drug']=='LEVAQUIN', 'is_LEVAQUIN'] = 1        \n",
    "\n",
    "combinedData['is_RITALIN'] = 0\n",
    "combinedData.loc[combinedData['Drug']=='RITALIN', 'is_RITALIN'] = 1 \n",
    "\n",
    "combinedData['is_HALDOL'] = 0\n",
    "combinedData.loc[combinedData['Drug']=='HALDOL', 'is_HALDOL'] = 1 \n",
    "\n",
    "combinedData['is_MEDROL'] = 0\n",
    "combinedData.loc[combinedData['Drug']=='MEDROL', 'is_MEDROL'] = 1 \n",
    "      \n",
    "combinedData['is_DILANTIN'] = 0\n",
    "combinedData.loc[combinedData['Drug']=='DILANTIN', 'is_DILANTIN'] = 1        \n",
    "       \n",
    "combinedData['is_TOPAMAX'] = 0\n",
    "combinedData.loc[combinedData['Drug']=='TOPAMAX', 'is_TOPAMAX'] = 1          \n",
    "\n",
    "combinedData['is_ZOLOFT'] = 0\n",
    "combinedData.loc[combinedData['Drug']=='ZOLOFT', 'is_ZOLOFT'] = 1\n",
    "\n",
    "combinedData['is_VISTARIL'] = 0\n",
    "combinedData.loc[combinedData['Drug']=='VISTARIL', 'is_VISTARIL'] = 1           "
   ]
  },
  {
   "cell_type": "code",
   "execution_count": 28,
   "metadata": {
    "collapsed": true
   },
   "outputs": [],
   "source": [
    "# drop string fields\n",
    "combinedData = combinedData.drop(['cleanText'], axis=1)\n",
    "combinedData = combinedData.drop(['Text'], axis=1)\n",
    "combinedData = combinedData.drop(['Drug'], axis=1)"
   ]
  },
  {
   "cell_type": "code",
   "execution_count": 29,
   "metadata": {},
   "outputs": [
    {
     "data": {
      "text/plain": [
       "['index',\n",
       " 'Label_x',\n",
       " 'is_test_set',\n",
       " 'is_valid_set',\n",
       " 'happ_score',\n",
       " 'Feel_score',\n",
       " 'Negativ_score',\n",
       " 'Positiv_score',\n",
       " 'Pain_score',\n",
       " 'abdominal',\n",
       " 'able',\n",
       " 'absolutely',\n",
       " 'ache',\n",
       " 'acne',\n",
       " 'actually',\n",
       " 'add',\n",
       " 'adderall',\n",
       " 'adhd',\n",
       " 'affect',\n",
       " 'again',\n",
       " 'age',\n",
       " 'ago',\n",
       " 'allergic',\n",
       " 'allergy',\n",
       " 'almost',\n",
       " 'along',\n",
       " 'already',\n",
       " 'also',\n",
       " 'although',\n",
       " 'always',\n",
       " 'amp',\n",
       " 'anger',\n",
       " 'another',\n",
       " 'anti',\n",
       " 'antibiotic',\n",
       " 'anxiety',\n",
       " 'anymore',\n",
       " 'anyone',\n",
       " 'anything',\n",
       " 'appetite',\n",
       " 'arm',\n",
       " 'around',\n",
       " 'arthritis',\n",
       " 'ask',\n",
       " 'attack',\n",
       " 'away',\n",
       " 'awful',\n",
       " 'baby',\n",
       " 'back',\n",
       " 'back pain',\n",
       " 'bad',\n",
       " 'become',\n",
       " 'bed',\n",
       " 'begin',\n",
       " 'believe',\n",
       " 'best',\n",
       " 'better',\n",
       " 'big',\n",
       " 'birth',\n",
       " 'birth control',\n",
       " 'bite',\n",
       " 'bleed',\n",
       " 'bloat',\n",
       " 'blood',\n",
       " 'blood pressure',\n",
       " 'body',\n",
       " 'bone',\n",
       " 'brain',\n",
       " 'break',\n",
       " 'breast',\n",
       " 'breath',\n",
       " 'burn',\n",
       " 'bv',\n",
       " 'call',\n",
       " 'can',\n",
       " 'cancer',\n",
       " 'cannot',\n",
       " 'cant',\n",
       " 'care',\n",
       " 'cause',\n",
       " 'change',\n",
       " 'chest',\n",
       " 'child',\n",
       " 'chronic',\n",
       " 'clear',\n",
       " 'clomid',\n",
       " 'cold',\n",
       " 'come',\n",
       " 'come back',\n",
       " 'completely',\n",
       " 'constant',\n",
       " 'constantly',\n",
       " 'constipation',\n",
       " 'continue',\n",
       " 'control',\n",
       " 'could',\n",
       " 'couple',\n",
       " 'course',\n",
       " 'cramp',\n",
       " 'crazy',\n",
       " 'crohn',\n",
       " 'cry',\n",
       " 'cycle',\n",
       " 'daily',\n",
       " 'damage',\n",
       " 'day',\n",
       " 'day day',\n",
       " 'day take',\n",
       " 'days',\n",
       " 'deal',\n",
       " 'decide',\n",
       " 'decrease',\n",
       " 'definitely',\n",
       " 'depo',\n",
       " 'depress',\n",
       " 'depression',\n",
       " 'depression anxiety',\n",
       " 'develop',\n",
       " 'diagnose',\n",
       " 'diarrhea',\n",
       " 'die',\n",
       " 'diet',\n",
       " 'diff',\n",
       " 'different',\n",
       " 'difficulty',\n",
       " 'disease',\n",
       " 'disorder',\n",
       " 'dizziness',\n",
       " 'dizzy',\n",
       " 'do',\n",
       " 'doc',\n",
       " 'doctor',\n",
       " 'dont',\n",
       " 'dosage',\n",
       " 'dose',\n",
       " 'dr',\n",
       " 'dream',\n",
       " 'drink',\n",
       " 'drive',\n",
       " 'drug',\n",
       " 'dry',\n",
       " 'dry mouth',\n",
       " 'due',\n",
       " 'eat',\n",
       " 'effect',\n",
       " 'effective',\n",
       " 'effects',\n",
       " 'else',\n",
       " 'emotional',\n",
       " 'enbrel',\n",
       " 'end',\n",
       " 'energy',\n",
       " 'enough',\n",
       " 'er',\n",
       " 'especially',\n",
       " 'etc',\n",
       " 'even',\n",
       " 'ever',\n",
       " 'every',\n",
       " 'every day',\n",
       " 'everyone',\n",
       " 'everything',\n",
       " 'exercise',\n",
       " 'experience',\n",
       " 'extreme',\n",
       " 'extremely',\n",
       " 'eye',\n",
       " 'face',\n",
       " 'fall',\n",
       " 'family',\n",
       " 'far',\n",
       " 'fatigue',\n",
       " 'feel',\n",
       " 'feel like',\n",
       " 'felt',\n",
       " 'felt like',\n",
       " 'finally',\n",
       " 'find',\n",
       " 'fine',\n",
       " 'finish',\n",
       " 'first',\n",
       " 'first day',\n",
       " 'first time',\n",
       " 'flagyl',\n",
       " 'flash',\n",
       " 'flu',\n",
       " 'focus',\n",
       " 'follow',\n",
       " 'food',\n",
       " 'foot',\n",
       " 'form',\n",
       " 'full',\n",
       " 'function',\n",
       " 'gain',\n",
       " 'gain weight',\n",
       " 'generic',\n",
       " 'get',\n",
       " 'get period',\n",
       " 'get pregnant',\n",
       " 'get shoot',\n",
       " 'give',\n",
       " 'go',\n",
       " 'go away',\n",
       " 'go back',\n",
       " 'good',\n",
       " 'great',\n",
       " 'hair',\n",
       " 'hair loss',\n",
       " 'half',\n",
       " 'hand',\n",
       " 'happen',\n",
       " 'happy',\n",
       " 'hard',\n",
       " 'hate',\n",
       " 'head',\n",
       " 'headache',\n",
       " 'healthy',\n",
       " 'hear',\n",
       " 'heart',\n",
       " 'heavy',\n",
       " 'help',\n",
       " 'high',\n",
       " 'home',\n",
       " 'hope',\n",
       " 'horrible',\n",
       " 'hospital',\n",
       " 'hot',\n",
       " 'hot flash',\n",
       " 'hour',\n",
       " 'however',\n",
       " 'humira',\n",
       " 'hurt',\n",
       " 'husband',\n",
       " 'im',\n",
       " 'immediately',\n",
       " 'improve',\n",
       " 'increase',\n",
       " 'induce',\n",
       " 'infection',\n",
       " 'infusion',\n",
       " 'injection',\n",
       " 'insomnia',\n",
       " 'irregular',\n",
       " 'irritability',\n",
       " 'issue',\n",
       " 'it',\n",
       " 'itch',\n",
       " 'iv',\n",
       " 'joint',\n",
       " 'joint pain',\n",
       " 'keep',\n",
       " 'kill',\n",
       " 'know',\n",
       " 'lack',\n",
       " 'last',\n",
       " 'later',\n",
       " 'lb',\n",
       " 'lbs',\n",
       " 'le',\n",
       " 'least',\n",
       " 'leave',\n",
       " 'leg',\n",
       " 'let',\n",
       " 'level',\n",
       " 'libido',\n",
       " 'life',\n",
       " 'light',\n",
       " 'like',\n",
       " 'little',\n",
       " 'live',\n",
       " 'long',\n",
       " 'long term',\n",
       " 'longer',\n",
       " 'look',\n",
       " 'lose',\n",
       " 'lose weight',\n",
       " 'loss',\n",
       " 'loss appetite',\n",
       " 'lot',\n",
       " 'love',\n",
       " 'low',\n",
       " 'lower',\n",
       " 'major',\n",
       " 'make',\n",
       " 'make feel',\n",
       " 'many',\n",
       " 'may',\n",
       " 'maybe',\n",
       " 'me',\n",
       " 'mean',\n",
       " 'med',\n",
       " 'medication',\n",
       " 'medicine',\n",
       " 'memory',\n",
       " 'metallic',\n",
       " 'mg',\n",
       " 'mg day',\n",
       " 'might',\n",
       " 'migraine',\n",
       " 'mild',\n",
       " 'mind',\n",
       " 'minute',\n",
       " 'miss',\n",
       " 'month',\n",
       " 'mood',\n",
       " 'mood swing',\n",
       " 'moody',\n",
       " 'morning',\n",
       " 'mouth',\n",
       " 'move',\n",
       " 'much',\n",
       " 'muscle',\n",
       " 'nan',\n",
       " 'nausea',\n",
       " 'neck',\n",
       " 'need',\n",
       " 'negative',\n",
       " 'nerve',\n",
       " 'never',\n",
       " 'never take',\n",
       " 'new',\n",
       " 'next',\n",
       " 'night',\n",
       " 'none',\n",
       " 'normal',\n",
       " 'nothing',\n",
       " 'notice',\n",
       " 'numbness',\n",
       " 'nurse',\n",
       " 'old',\n",
       " 'one',\n",
       " 'others',\n",
       " 'pain',\n",
       " 'painful',\n",
       " 'panic',\n",
       " 'panic attack',\n",
       " 'past',\n",
       " 'patient',\n",
       " 'pcos',\n",
       " 'people',\n",
       " 'per',\n",
       " 'period',\n",
       " 'person',\n",
       " 'pill',\n",
       " 'please',\n",
       " 'pm',\n",
       " 'point',\n",
       " 'poison',\n",
       " 'possible',\n",
       " 'post',\n",
       " 'pound',\n",
       " 'pregnancy',\n",
       " 'pregnant',\n",
       " 'prescribe',\n",
       " 'pressure',\n",
       " 'pretty',\n",
       " 'prevent',\n",
       " 'probably',\n",
       " 'problem',\n",
       " 'provera',\n",
       " 'psoriasis',\n",
       " 'put',\n",
       " 'quit',\n",
       " 'ra',\n",
       " 'rash',\n",
       " 'rate',\n",
       " 'rather',\n",
       " 'reaction',\n",
       " 'read',\n",
       " 'realize',\n",
       " 'really',\n",
       " 'reason',\n",
       " 'recommend',\n",
       " 'reduce',\n",
       " 'relief',\n",
       " 'remember',\n",
       " 'remicade',\n",
       " 'research',\n",
       " 'result',\n",
       " 'return',\n",
       " 'right',\n",
       " 'run',\n",
       " 'say',\n",
       " 'scar',\n",
       " 'school',\n",
       " 'second',\n",
       " 'see',\n",
       " 'seem',\n",
       " 'seizure',\n",
       " 'several',\n",
       " 'severe',\n",
       " 'sex',\n",
       " 'sex drive',\n",
       " 'shoot',\n",
       " 'short',\n",
       " 'shoulder',\n",
       " 'sick',\n",
       " 'side',\n",
       " 'side effect',\n",
       " 'side effects',\n",
       " 'since',\n",
       " 'sit',\n",
       " 'site',\n",
       " 'skin',\n",
       " 'sleep',\n",
       " 'slight',\n",
       " 'small',\n",
       " 'someone',\n",
       " 'something',\n",
       " 'sometimes',\n",
       " 'soon',\n",
       " 'sore',\n",
       " 'spasm',\n",
       " 'spot',\n",
       " 'start',\n",
       " 'start take',\n",
       " 'stay',\n",
       " 'still',\n",
       " 'stomach',\n",
       " 'stop',\n",
       " 'stop take',\n",
       " 'stuff',\n",
       " 'suffer',\n",
       " 'suppose',\n",
       " 'sure',\n",
       " 'surgery',\n",
       " 'sweat',\n",
       " 'swell',\n",
       " 'swing',\n",
       " 'switch',\n",
       " 'symptom',\n",
       " 'system',\n",
       " 'tablet',\n",
       " 'take',\n",
       " 'take day',\n",
       " 'take drug',\n",
       " 'take it',\n",
       " 'take medication',\n",
       " 'take mg',\n",
       " 'take pill',\n",
       " 'talk',\n",
       " 'taste',\n",
       " 'tell',\n",
       " 'term',\n",
       " 'terrible',\n",
       " 'test',\n",
       " 'th',\n",
       " 'thank',\n",
       " 'thing',\n",
       " 'think',\n",
       " 'though',\n",
       " 'three',\n",
       " 'throat',\n",
       " 'time',\n",
       " 'tingle',\n",
       " 'tire',\n",
       " 'tiredness',\n",
       " 'today',\n",
       " 'treatment',\n",
       " 'trouble',\n",
       " 'try',\n",
       " 'turn',\n",
       " 'twice',\n",
       " 'two',\n",
       " 'type',\n",
       " 'unable',\n",
       " 'up',\n",
       " 'upset',\n",
       " 'use',\n",
       " 'usually',\n",
       " 'uti',\n",
       " 'vaginal',\n",
       " 'valium',\n",
       " 've',\n",
       " 'vision',\n",
       " 'vomit',\n",
       " 'wait',\n",
       " 'wake',\n",
       " 'walk',\n",
       " 'want',\n",
       " 'water',\n",
       " 'way',\n",
       " 'weakness',\n",
       " 'wear',\n",
       " 'week',\n",
       " 'weight',\n",
       " 'weight gain',\n",
       " 'weight loss',\n",
       " 'well',\n",
       " 'whole',\n",
       " 'wish',\n",
       " 'withdrawal',\n",
       " 'within',\n",
       " 'without',\n",
       " 'woman',\n",
       " 'wonder',\n",
       " 'work',\n",
       " 'work well',\n",
       " 'worry',\n",
       " 'worse',\n",
       " 'worst',\n",
       " 'worth',\n",
       " 'would',\n",
       " 'would recommend',\n",
       " 'wrong',\n",
       " 'year',\n",
       " 'year ago',\n",
       " 'yet',\n",
       " 'yr',\n",
       " 'Label_y',\n",
       " 'Gender(1=F:2=M)',\n",
       " 'Age',\n",
       " 'DurationInDays',\n",
       " 'is_DEPO_PROVERA',\n",
       " 'is_FLAGYL',\n",
       " 'is_PROVERA',\n",
       " 'is_ADDERALL_10',\n",
       " 'is_ELAVIL',\n",
       " 'is_CLOMID',\n",
       " 'is_MICRONOR',\n",
       " 'is_HUMIRA',\n",
       " 'is_ENBREL',\n",
       " 'is_VALIUM',\n",
       " 'is_REMICADE',\n",
       " 'is_CYMBALTA',\n",
       " 'is_MACROBID',\n",
       " 'is_SOMA',\n",
       " 'is_IMURAN',\n",
       " 'is_COMPAZINE',\n",
       " 'is_SKELAXIN',\n",
       " 'is_LEXAPRO',\n",
       " 'is_KENALOG_40',\n",
       " 'is_CYTOMEL',\n",
       " 'is_LEVAQUIN',\n",
       " 'is_RITALIN',\n",
       " 'is_HALDOL',\n",
       " 'is_MEDROL',\n",
       " 'is_DILANTIN',\n",
       " 'is_TOPAMAX',\n",
       " 'is_ZOLOFT',\n",
       " 'is_VISTARIL']"
      ]
     },
     "execution_count": 29,
     "metadata": {},
     "output_type": "execute_result"
    }
   ],
   "source": [
    "list(combinedData)"
   ]
  },
  {
   "cell_type": "markdown",
   "metadata": {},
   "source": [
    "Mean inputation"
   ]
  },
  {
   "cell_type": "code",
   "execution_count": 30,
   "metadata": {
    "collapsed": true
   },
   "outputs": [],
   "source": [
    "combinedData = combinedData.fillna(combinedData.mean())\n",
    "combinedData = combinedData.astype(\"int\")"
   ]
  },
  {
   "cell_type": "markdown",
   "metadata": {},
   "source": [
    "Bound variable between 0 and 1 instead of -1 and 1 so we can use probabilities (0=high 1=low severity)"
   ]
  },
  {
   "cell_type": "code",
   "execution_count": 31,
   "metadata": {
    "collapsed": true
   },
   "outputs": [],
   "source": [
    "combinedData.loc[combinedData['Label_x']==-1, 'Label_x'] = 0"
   ]
  },
  {
   "cell_type": "code",
   "execution_count": 32,
   "metadata": {},
   "outputs": [
    {
     "data": {
      "text/plain": [
       "0    6331\n",
       "1    5572\n",
       "Name: Label_x, dtype: int64"
      ]
     },
     "execution_count": 32,
     "metadata": {},
     "output_type": "execute_result"
    }
   ],
   "source": [
    "combinedData['Label_x'].value_counts(dropna=False)"
   ]
  },
  {
   "cell_type": "code",
   "execution_count": 33,
   "metadata": {},
   "outputs": [
    {
     "data": {
      "text/plain": [
       "0    9523\n",
       "1    2380\n",
       "Name: is_test_set, dtype: int64"
      ]
     },
     "execution_count": 33,
     "metadata": {},
     "output_type": "execute_result"
    }
   ],
   "source": [
    "combinedData['is_test_set'].value_counts(dropna=False)"
   ]
  },
  {
   "cell_type": "markdown",
   "metadata": {},
   "source": [
    "Look at average sentiments and demographics"
   ]
  },
  {
   "cell_type": "code",
   "execution_count": 34,
   "metadata": {},
   "outputs": [
    {
     "data": {
      "text/html": [
       "<div>\n",
       "<style>\n",
       "    .dataframe thead tr:only-child th {\n",
       "        text-align: right;\n",
       "    }\n",
       "\n",
       "    .dataframe thead th {\n",
       "        text-align: left;\n",
       "    }\n",
       "\n",
       "    .dataframe tbody tr th {\n",
       "        vertical-align: top;\n",
       "    }\n",
       "</style>\n",
       "<table border=\"1\" class=\"dataframe\">\n",
       "  <thead>\n",
       "    <tr style=\"text-align: right;\">\n",
       "      <th></th>\n",
       "      <th>Label_x</th>\n",
       "      <th>is_DEPO_PROVERA</th>\n",
       "      <th>is_MICRONOR</th>\n",
       "      <th>Gender(1=F:2=M)</th>\n",
       "      <th>Age</th>\n",
       "      <th>DurationInDays</th>\n",
       "      <th>happ_score</th>\n",
       "      <th>Feel_score</th>\n",
       "      <th>Negativ_score</th>\n",
       "      <th>Positiv_score</th>\n",
       "      <th>Pain_score</th>\n",
       "    </tr>\n",
       "  </thead>\n",
       "  <tbody>\n",
       "    <tr>\n",
       "      <th>0</th>\n",
       "      <td>0</td>\n",
       "      <td>0.175486</td>\n",
       "      <td>0.045806</td>\n",
       "      <td>1.192229</td>\n",
       "      <td>37.557258</td>\n",
       "      <td>323.922761</td>\n",
       "      <td>234.989259</td>\n",
       "      <td>0.030011</td>\n",
       "      <td>4.941557</td>\n",
       "      <td>0.818512</td>\n",
       "      <td>1.587269</td>\n",
       "    </tr>\n",
       "    <tr>\n",
       "      <th>1</th>\n",
       "      <td>1</td>\n",
       "      <td>0.079684</td>\n",
       "      <td>0.000000</td>\n",
       "      <td>1.280510</td>\n",
       "      <td>37.931263</td>\n",
       "      <td>990.269562</td>\n",
       "      <td>216.847272</td>\n",
       "      <td>0.029612</td>\n",
       "      <td>3.472900</td>\n",
       "      <td>1.189519</td>\n",
       "      <td>1.143216</td>\n",
       "    </tr>\n",
       "  </tbody>\n",
       "</table>\n",
       "</div>"
      ],
      "text/plain": [
       "   Label_x  is_DEPO_PROVERA  is_MICRONOR  Gender(1=F:2=M)        Age  \\\n",
       "0        0         0.175486     0.045806         1.192229  37.557258   \n",
       "1        1         0.079684     0.000000         1.280510  37.931263   \n",
       "\n",
       "   DurationInDays  happ_score  Feel_score  Negativ_score  Positiv_score  \\\n",
       "0      323.922761  234.989259    0.030011       4.941557       0.818512   \n",
       "1      990.269562  216.847272    0.029612       3.472900       1.189519   \n",
       "\n",
       "   Pain_score  \n",
       "0    1.587269  \n",
       "1    1.143216  "
      ]
     },
     "execution_count": 34,
     "metadata": {},
     "output_type": "execute_result"
    }
   ],
   "source": [
    "combinedDataSentimentDemo = combinedData[['Label_x','is_DEPO_PROVERA','is_MICRONOR','Gender(1=F:2=M)','Age','DurationInDays','happ_score','Feel_score','Negativ_score','Positiv_score','Pain_score']]\n",
    "aggregated_df = combinedDataSentimentDemo.groupby('Label_x').mean().reset_index()\n",
    "aggregated_df"
   ]
  },
  {
   "cell_type": "markdown",
   "metadata": {},
   "source": [
    "# Models"
   ]
  },
  {
   "cell_type": "markdown",
   "metadata": {},
   "source": [
    "Set up the train and validation set using training data and separate test data for final model validation"
   ]
  },
  {
   "cell_type": "code",
   "execution_count": 35,
   "metadata": {
    "collapsed": true
   },
   "outputs": [],
   "source": [
    "train_orig = combinedData.loc[combinedData['is_test_set'] == 0.0]\n",
    "test = combinedData.loc[combinedData['is_test_set'] == 1.0]\n",
    "\n",
    "y_train_orig = train_orig['Label_x']\n",
    "y_test = test['Label_x']\n",
    "\n",
    "x_train_orig = train_orig.drop(['Label_x','Label_y','is_test_set','is_valid_set','index'], axis=1)\n",
    "x_test = test.drop(['Label_x','Label_y','is_test_set','is_valid_set','index'], axis=1)"
   ]
  },
  {
   "cell_type": "code",
   "execution_count": 36,
   "metadata": {
    "collapsed": true
   },
   "outputs": [],
   "source": [
    "x_train, x_valid, y_train, y_valid = train_test_split(x_train_orig, y_train_orig, test_size=0.25, random_state=201)"
   ]
  },
  {
   "cell_type": "markdown",
   "metadata": {},
   "source": [
    "Select models to run grid search on"
   ]
  },
  {
   "cell_type": "code",
   "execution_count": 37,
   "metadata": {
    "collapsed": true
   },
   "outputs": [],
   "source": [
    "# Cross validate model with Kfold stratified cross val\n",
    "kfold = StratifiedKFold(n_splits=5)"
   ]
  },
  {
   "cell_type": "code",
   "execution_count": 38,
   "metadata": {},
   "outputs": [
    {
     "data": {
      "image/png": "[encoded data removed]",
      "text/plain": [
       "<matplotlib.figure.Figure at 0x7fea2f5623c8>"
      ]
     },
     "metadata": {},
     "output_type": "display_data"
    }
   ],
   "source": [
    "# Modeling step Test differents algorithms \n",
    "random_state = 201\n",
    "classifiers = []\n",
    "classifiers.append(SVC(random_state=random_state))\n",
    "classifiers.append(DecisionTreeClassifier(random_state=random_state))\n",
    "classifiers.append(AdaBoostClassifier(DecisionTreeClassifier(random_state=random_state),random_state=random_state,learning_rate=0.1))\n",
    "classifiers.append(RandomForestClassifier(random_state=random_state))\n",
    "classifiers.append(ExtraTreesClassifier(random_state=random_state))\n",
    "classifiers.append(GradientBoostingClassifier(random_state=random_state))\n",
    "classifiers.append(MLPClassifier(random_state=random_state))\n",
    "classifiers.append(KNeighborsClassifier())\n",
    "classifiers.append(LogisticRegression(random_state = random_state))\n",
    "classifiers.append(LinearDiscriminantAnalysis())\n",
    "\n",
    "cv_results = []\n",
    "for classifier in classifiers :\n",
    "    cv_results.append(cross_val_score(classifier, x_train, y = y_train, scoring = \"accuracy\", cv = kfold, n_jobs=16))\n",
    "\n",
    "cv_means = []\n",
    "cv_std = []\n",
    "for cv_result in cv_results:\n",
    "    cv_means.append(cv_result.mean())\n",
    "    cv_std.append(cv_result.std())\n",
    "\n",
    "cv_res = pd.DataFrame({\"CrossValMeans\":cv_means,\"CrossValerrors\": cv_std,\"Algorithm\":[\"SVC\",\"DecisionTree\",\"AdaBoost\",\n",
    "\"RandomForest\",\"ExtraTrees\",\"GradientBoosting\",\"MultipleLayerPerceptron\",\"KNeighboors\",\"LogisticRegression\",\"LinearDiscriminantAnalysis\"]})\n",
    "\n",
    "g = sns.barplot(\"CrossValMeans\",\"Algorithm\",data = cv_res, palette=\"Set3\",orient = \"h\",**{'xerr':cv_std})\n",
    "g.set_xlabel(\"Mean Accuracy\")\n",
    "g = g.set_title(\"Cross validation scores\")"
   ]
  },
  {
   "cell_type": "code",
   "execution_count": 39,
   "metadata": {},
   "outputs": [
    {
     "name": "stdout",
     "output_type": "stream",
     "text": [
      "Fitting 5 folds for each of 64 candidates, totalling 320 fits\n"
     ]
    },
    {
     "name": "stderr",
     "output_type": "stream",
     "text": [
      "[Parallel(n_jobs=16)]: Done  18 tasks      | elapsed:    2.1s\n",
      "[Parallel(n_jobs=16)]: Done 168 tasks      | elapsed:   12.2s\n",
      "[Parallel(n_jobs=16)]: Done 320 out of 320 | elapsed:   22.1s finished\n"
     ]
    },
    {
     "data": {
      "text/plain": [
       "0.68804256510781292"
      ]
     },
     "execution_count": 39,
     "metadata": {},
     "output_type": "execute_result"
    }
   ],
   "source": [
    "# Adaboost\n",
    "DTC = DecisionTreeClassifier()\n",
    "\n",
    "adaDTC = AdaBoostClassifier(DTC, random_state=201)\n",
    "\n",
    "ada_param_grid = {\"base_estimator__criterion\" : [\"gini\", \"entropy\"],\n",
    "              \"base_estimator__splitter\" :   [\"best\", \"random\"],\n",
    "              \"algorithm\" : [\"SAMME\",\"SAMME.R\"],\n",
    "              \"n_estimators\" :[1,2],\n",
    "              \"learning_rate\":  [0.0001, 0.001, 0.01, 0.1],\n",
    "              \"random_state\": [201]\n",
    "            }\n",
    "\n",
    "gsadaDTC = GridSearchCV(adaDTC,param_grid = ada_param_grid, cv=kfold, scoring=\"accuracy\", n_jobs= 16, verbose = 1)\n",
    "\n",
    "gsadaDTC.fit(x_train,y_train)\n",
    "\n",
    "ada_best = gsadaDTC.best_estimator_\n",
    "\n",
    "# Best score\n",
    "gsadaDTC.best_score_"
   ]
  },
  {
   "cell_type": "code",
   "execution_count": 40,
   "metadata": {
    "collapsed": true
   },
   "outputs": [],
   "source": [
    "ada_pred = ada_best.fit(x_train,y_train)\n",
    "ada_pred_valid = ada_pred.predict_proba(x_valid)"
   ]
  },
  {
   "cell_type": "code",
   "execution_count": 41,
   "metadata": {},
   "outputs": [
    {
     "name": "stdout",
     "output_type": "stream",
     "text": [
      "Fitting 5 folds for each of 84 candidates, totalling 420 fits\n"
     ]
    },
    {
     "name": "stderr",
     "output_type": "stream",
     "text": [
      "[Parallel(n_jobs=16)]: Done  18 tasks      | elapsed:    1.7s\n",
      "[Parallel(n_jobs=16)]: Done 168 tasks      | elapsed:   11.8s\n",
      "[Parallel(n_jobs=16)]: Done 420 out of 420 | elapsed:   37.9s finished\n"
     ]
    },
    {
     "data": {
      "text/plain": [
       "0.76743209185102212"
      ]
     },
     "execution_count": 41,
     "metadata": {},
     "output_type": "execute_result"
    }
   ],
   "source": [
    "#ExtraTrees \n",
    "ExtC = ExtraTreesClassifier()\n",
    "\n",
    "## Search grid for optimal parameters\n",
    "ex_param_grid = {\"max_depth\": [None],\n",
    "              \"max_features\": [2, 3, 4, 5, 6, 7, 8],\n",
    "              \"min_samples_split\": [2, 3, 10],\n",
    "              \"min_samples_leaf\": [25,50],\n",
    "              \"bootstrap\": [False],\n",
    "              \"n_estimators\" :[100,300],\n",
    "              \"criterion\": [\"gini\"],\n",
    "              \"random_state\": [201]\n",
    "            }\n",
    "\n",
    "\n",
    "gsExtC = GridSearchCV(ExtC,param_grid = ex_param_grid, cv=kfold, scoring=\"accuracy\", n_jobs= 16, verbose = 1)\n",
    "\n",
    "gsExtC.fit(x_train,y_train)\n",
    "\n",
    "ExtC_best = gsExtC.best_estimator_\n",
    "\n",
    "# Best score\n",
    "gsExtC.best_score_"
   ]
  },
  {
   "cell_type": "code",
   "execution_count": 42,
   "metadata": {
    "collapsed": true
   },
   "outputs": [],
   "source": [
    "extc_pred = ExtC_best.fit(x_train,y_train)\n",
    "extc_pred_valid = extc_pred.predict_proba(x_valid)"
   ]
  },
  {
   "cell_type": "code",
   "execution_count": 43,
   "metadata": {},
   "outputs": [
    {
     "name": "stdout",
     "output_type": "stream",
     "text": [
      "Fitting 5 folds for each of 189 candidates, totalling 945 fits\n"
     ]
    },
    {
     "name": "stderr",
     "output_type": "stream",
     "text": [
      "[Parallel(n_jobs=16)]: Done  18 tasks      | elapsed:    3.2s\n",
      "[Parallel(n_jobs=16)]: Done 168 tasks      | elapsed:   22.1s\n",
      "[Parallel(n_jobs=16)]: Done 418 tasks      | elapsed:   57.0s\n",
      "[Parallel(n_jobs=16)]: Done 768 tasks      | elapsed:  2.0min\n",
      "[Parallel(n_jobs=16)]: Done 945 out of 945 | elapsed:  2.6min finished\n"
     ]
    },
    {
     "data": {
      "text/plain": [
       "0.78549425931111738"
      ]
     },
     "execution_count": 43,
     "metadata": {},
     "output_type": "execute_result"
    }
   ],
   "source": [
    "# RFC Parameters tunning \n",
    "RFC = RandomForestClassifier()\n",
    "\n",
    "\n",
    "## Search grid for optimal parameters\n",
    "rf_param_grid = {\"max_depth\": [None],\n",
    "              \"max_features\": [2, 3, 4, 5, 6, 7, 8],\n",
    "              \"min_samples_split\": [2, 3, 10],\n",
    "              \"min_samples_leaf\": [20,25,50],\n",
    "              \"bootstrap\": [False],\n",
    "              \"n_estimators\" :[25,250,500],\n",
    "              \"criterion\": [\"gini\"],\n",
    "              \"random_state\": [201]\n",
    "            }\n",
    "\n",
    "\n",
    "gsRFC = GridSearchCV(RFC,param_grid = rf_param_grid, cv=kfold, scoring=\"accuracy\", n_jobs=16, verbose = 1)\n",
    "\n",
    "gsRFC.fit(x_train,y_train)\n",
    "\n",
    "RFC_best = gsRFC.best_estimator_\n",
    "\n",
    "# Best score\n",
    "gsRFC.best_score_"
   ]
  },
  {
   "cell_type": "code",
   "execution_count": 44,
   "metadata": {
    "collapsed": true
   },
   "outputs": [],
   "source": [
    "rfc_pred = RFC_best.fit(x_train,y_train)\n",
    "rfc_pred_valid = rfc_pred.predict_proba(x_valid)"
   ]
  },
  {
   "cell_type": "code",
   "execution_count": 45,
   "metadata": {},
   "outputs": [
    {
     "name": "stdout",
     "output_type": "stream",
     "text": [
      "Fitting 5 folds for each of 64 candidates, totalling 320 fits\n"
     ]
    },
    {
     "name": "stderr",
     "output_type": "stream",
     "text": [
      "[Parallel(n_jobs=16)]: Done  18 tasks      | elapsed:    9.2s\n",
      "[Parallel(n_jobs=16)]: Done 168 tasks      | elapsed:  1.5min\n",
      "[Parallel(n_jobs=16)]: Done 320 out of 320 | elapsed:  2.8min finished\n"
     ]
    },
    {
     "data": {
      "text/plain": [
       "0.82049845981517777"
      ]
     },
     "execution_count": 45,
     "metadata": {},
     "output_type": "execute_result"
    }
   ],
   "source": [
    "# Gradient boosting tunning\n",
    "GBC = GradientBoostingClassifier()\n",
    "gb_param_grid = {'loss' : [\"deviance\"],\n",
    "              'n_estimators' : [200,300],\n",
    "              'learning_rate': [0.1, 0.05],\n",
    "              'max_depth': [3,4,5,6],\n",
    "              'min_samples_leaf': [100,150],\n",
    "              'max_features': [0.3, 0.1],\n",
    "              'random_state': [201]\n",
    "              }\n",
    "\n",
    "gsGBC = GridSearchCV(GBC,param_grid = gb_param_grid, cv=kfold, scoring=\"accuracy\", n_jobs= 16, verbose = 1)\n",
    "\n",
    "gsGBC.fit(x_train,y_train)\n",
    "\n",
    "GBC_best = gsGBC.best_estimator_\n",
    "\n",
    "# Best score\n",
    "gsGBC.best_score_"
   ]
  },
  {
   "cell_type": "code",
   "execution_count": 46,
   "metadata": {
    "collapsed": true
   },
   "outputs": [],
   "source": [
    "gbc_pred = GBC_best.fit(x_train,y_train)\n",
    "gbc_pred_valid = gbc_pred.predict_proba(x_valid)"
   ]
  },
  {
   "cell_type": "code",
   "execution_count": 47,
   "metadata": {},
   "outputs": [
    {
     "name": "stdout",
     "output_type": "stream",
     "text": [
      "Fitting 5 folds for each of 14 candidates, totalling 70 fits\n"
     ]
    },
    {
     "name": "stderr",
     "output_type": "stream",
     "text": [
      "[Parallel(n_jobs=16)]: Done  18 tasks      | elapsed:    4.6s\n",
      "[Parallel(n_jobs=16)]: Done  70 out of  70 | elapsed:   12.7s finished\n"
     ]
    },
    {
     "data": {
      "text/plain": [
       "0.73606832819938395"
      ]
     },
     "execution_count": 47,
     "metadata": {},
     "output_type": "execute_result"
    }
   ],
   "source": [
    "### SVM classifier\n",
    "SVM = LinearSVC()\n",
    "svm_param_grid = {\n",
    "            'penalty':['l2'],\n",
    "            'C':[0.1,0.5,1.0,1.5,2,10,100],\n",
    "            'loss':['hinge','squared_hinge'],\n",
    "            'random_state': [201]\n",
    "        }\n",
    "\n",
    "gsSVM = GridSearchCV(SVM,param_grid = svm_param_grid, cv=kfold, scoring=\"accuracy\", n_jobs= 16, verbose = 1)\n",
    "\n",
    "gsSVM.fit(x_train,y_train)\n",
    "\n",
    "SVM_best = gsSVM.best_estimator_\n",
    "\n",
    "# Best score\n",
    "gsSVM.best_score_"
   ]
  },
  {
   "cell_type": "code",
   "execution_count": 48,
   "metadata": {
    "collapsed": true
   },
   "outputs": [],
   "source": [
    "svm_pred = SVM_best.fit(x_train,y_train)\n",
    "svm_pred_valid = svm_pred.predict(x_valid)"
   ]
  },
  {
   "cell_type": "code",
   "execution_count": 49,
   "metadata": {},
   "outputs": [
    {
     "name": "stdout",
     "output_type": "stream",
     "text": [
      "Fitting 5 folds for each of 18 candidates, totalling 90 fits\n"
     ]
    },
    {
     "name": "stderr",
     "output_type": "stream",
     "text": [
      "[Parallel(n_jobs=16)]: Done  18 tasks      | elapsed:   20.3s\n",
      "[Parallel(n_jobs=16)]: Done  90 out of  90 | elapsed:  1.3min finished\n"
     ]
    },
    {
     "data": {
      "text/plain": [
       "0.81167740128815458"
      ]
     },
     "execution_count": 49,
     "metadata": {},
     "output_type": "execute_result"
    }
   ],
   "source": [
    "### XGBOOST\n",
    "XGB = XGBClassifier()\n",
    "xgb_param_grid = {\n",
    "              'learning_rate': [0.1,0.05,0.01],\n",
    "              'max_depth': [2,3,4,5,6,7],\n",
    "              'random_state': [201]\n",
    "              }\n",
    "\n",
    "gsXGB = GridSearchCV(XGB,param_grid = xgb_param_grid, cv=kfold, scoring=\"accuracy\", n_jobs= 16, verbose = 1)\n",
    "\n",
    "gsXGB.fit(x_train,y_train)\n",
    "\n",
    "XGB_best = gsXGB.best_estimator_\n",
    "\n",
    "# Best score\n",
    "gsXGB.best_score_"
   ]
  },
  {
   "cell_type": "code",
   "execution_count": 50,
   "metadata": {
    "collapsed": true
   },
   "outputs": [],
   "source": [
    "xgb_pred = XGB_best.fit(x_train,y_train)\n",
    "xgb_pred_valid = XGB_best.predict_proba(x_valid)"
   ]
  },
  {
   "cell_type": "code",
   "execution_count": 51,
   "metadata": {},
   "outputs": [
    {
     "name": "stdout",
     "output_type": "stream",
     "text": [
      "Fitting 5 folds for each of 1 candidates, totalling 5 fits\n"
     ]
    },
    {
     "name": "stderr",
     "output_type": "stream",
     "text": [
      "[Parallel(n_jobs=16)]: Done   5 out of   5 | elapsed:    1.7s finished\n"
     ]
    },
    {
     "data": {
      "text/plain": [
       "0.80005600672080646"
      ]
     },
     "execution_count": 51,
     "metadata": {},
     "output_type": "execute_result"
    }
   ],
   "source": [
    "#LDA\n",
    "LDA = LinearDiscriminantAnalysis()\n",
    "lda_param_grid = {\n",
    "            'n_components':[None], \n",
    "            'priors':[None], \n",
    "            'shrinkage':[None],\n",
    "            'solver':['svd'], \n",
    "            'store_covariance':[False],\n",
    "            'tol':[0.0001]\n",
    "            }\n",
    "\n",
    "gsLDA = GridSearchCV(LDA,param_grid = lda_param_grid, cv=kfold, scoring=\"accuracy\", n_jobs= 16, verbose = 1)\n",
    "\n",
    "gsLDA.fit(x_train,y_train)\n",
    "\n",
    "LDA_best = gsLDA.best_estimator_\n",
    "\n",
    "# Best score\n",
    "gsLDA.best_score_"
   ]
  },
  {
   "cell_type": "code",
   "execution_count": 52,
   "metadata": {
    "collapsed": true
   },
   "outputs": [],
   "source": [
    "lda_pred = LDA_best.fit(x_train,y_train)\n",
    "lda_pred_valid = LDA_best.predict_proba(x_valid)"
   ]
  },
  {
   "cell_type": "code",
   "execution_count": 53,
   "metadata": {},
   "outputs": [
    {
     "name": "stdout",
     "output_type": "stream",
     "text": [
      "Fitting 5 folds for each of 16 candidates, totalling 80 fits\n"
     ]
    },
    {
     "name": "stderr",
     "output_type": "stream",
     "text": [
      "[Parallel(n_jobs=16)]: Done  18 tasks      | elapsed:  1.1min\n",
      "[Parallel(n_jobs=16)]: Done  80 out of  80 | elapsed:  2.4min finished\n"
     ]
    },
    {
     "data": {
      "text/plain": [
       "0.80719686362363485"
      ]
     },
     "execution_count": 53,
     "metadata": {},
     "output_type": "execute_result"
    }
   ],
   "source": [
    "#NN\n",
    "NN = MLPClassifier()\n",
    "nn_param_grid = {\n",
    "            'max_iter': [1000,2000],\n",
    "            'activation': [\"logistic\", \"relu\"],\n",
    "            'hidden_layer_sizes': [(20,10,8,5,3), (10,8,5,3), (10,5,3), (5,3)],\n",
    "            'random_state': [201]\n",
    "        }\n",
    "\n",
    "gsNN = GridSearchCV(NN,param_grid = nn_param_grid, cv=kfold, scoring=\"accuracy\", n_jobs= 16, verbose = 1)\n",
    "\n",
    "gsNN.fit(x_train,y_train)\n",
    "\n",
    "NN_best = gsNN.best_estimator_\n",
    "\n",
    "# Best score\n",
    "gsNN.best_score_"
   ]
  },
  {
   "cell_type": "code",
   "execution_count": 54,
   "metadata": {
    "collapsed": true
   },
   "outputs": [],
   "source": [
    "nn_pred = NN_best.fit(x_train,y_train)\n",
    "nn_pred_valid = NN_best.predict_proba(x_valid)"
   ]
  },
  {
   "cell_type": "code",
   "execution_count": 55,
   "metadata": {},
   "outputs": [
    {
     "data": {
      "text/plain": [
       "MLPClassifier(activation='logistic', alpha=0.0001, batch_size='auto',\n",
       "       beta_1=0.9, beta_2=0.999, early_stopping=False, epsilon=1e-08,\n",
       "       hidden_layer_sizes=(10, 5, 3), learning_rate='constant',\n",
       "       learning_rate_init=0.001, max_iter=1000, momentum=0.9,\n",
       "       nesterovs_momentum=True, power_t=0.5, random_state=201,\n",
       "       shuffle=True, solver='adam', tol=0.0001, validation_fraction=0.1,\n",
       "       verbose=False, warm_start=False)"
      ]
     },
     "execution_count": 55,
     "metadata": {},
     "output_type": "execute_result"
    }
   ],
   "source": [
    "NN_best"
   ]
  },
  {
   "cell_type": "code",
   "execution_count": 56,
   "metadata": {},
   "outputs": [
    {
     "data": {
      "image/png": "[encoded data removed]",
      "text/plain": [
       "<matplotlib.figure.Figure at 0x7fea2de01be0>"
      ]
     },
     "metadata": {},
     "output_type": "display_data"
    },
    {
     "data": {
      "image/png": "[encoded data removed]",
      "text/plain": [
       "<matplotlib.figure.Figure at 0x7fea2de01b38>"
      ]
     },
     "metadata": {},
     "output_type": "display_data"
    },
    {
     "data": {
      "image/png": "[encoded data removed]",
      "text/plain": [
       "<matplotlib.figure.Figure at 0x7fea2dd2e320>"
      ]
     },
     "metadata": {},
     "output_type": "display_data"
    },
    {
     "data": {
      "image/png": "[encoded data removed]",
      "text/plain": [
       "<matplotlib.figure.Figure at 0x7fea2f57a160>"
      ]
     },
     "metadata": {},
     "output_type": "display_data"
    },
    {
     "data": {
      "image/png": "[encoded data removed]",
      "text/plain": [
       "<matplotlib.figure.Figure at 0x7fea2ce201d0>"
      ]
     },
     "metadata": {},
     "output_type": "display_data"
    },
    {
     "data": {
      "image/png": "[encoded data removed]",
      "text/plain": [
       "<matplotlib.figure.Figure at 0x7fea2ce20198>"
      ]
     },
     "metadata": {},
     "output_type": "display_data"
    },
    {
     "data": {
      "image/png": "[encoded data removed]",
      "text/plain": [
       "<matplotlib.figure.Figure at 0x7fea2e117278>"
      ]
     },
     "metadata": {},
     "output_type": "display_data"
    },
    {
     "data": {
      "image/png": "[encoded data removed]",
      "text/plain": [
       "<matplotlib.figure.Figure at 0x7fea2ca84128>"
      ]
     },
     "metadata": {},
     "output_type": "display_data"
    }
   ],
   "source": [
    "def plot_learning_curve(estimator, title, X, y, ylim=None, cv=None,\n",
    "                        n_jobs=-1, train_sizes=np.linspace(.1, 1.0, 5)):\n",
    "    \"\"\"Generate a simple plot of the test and training learning curve\"\"\"\n",
    "    plt.figure()\n",
    "    plt.title(title)\n",
    "    if ylim is not None:\n",
    "        plt.ylim(*ylim)\n",
    "    plt.xlabel(\"Training examples\")\n",
    "    plt.ylabel(\"Score\")\n",
    "    train_sizes, train_scores, test_scores = learning_curve(\n",
    "        estimator, X, y, cv=cv, n_jobs=n_jobs, train_sizes=train_sizes)\n",
    "    train_scores_mean = np.mean(train_scores, axis=1)\n",
    "    train_scores_std = np.std(train_scores, axis=1)\n",
    "    test_scores_mean = np.mean(test_scores, axis=1)\n",
    "    test_scores_std = np.std(test_scores, axis=1)\n",
    "    plt.grid()\n",
    "\n",
    "    plt.fill_between(train_sizes, train_scores_mean - train_scores_std,\n",
    "                     train_scores_mean + train_scores_std, alpha=0.1,\n",
    "                     color=\"r\")\n",
    "    plt.fill_between(train_sizes, test_scores_mean - test_scores_std,\n",
    "                     test_scores_mean + test_scores_std, alpha=0.1, color=\"g\")\n",
    "    plt.plot(train_sizes, train_scores_mean, 'o-', color=\"r\",\n",
    "             label=\"Training score\")\n",
    "    plt.plot(train_sizes, test_scores_mean, 'o-', color=\"g\",\n",
    "             label=\"Cross-validation score\")\n",
    "\n",
    "    plt.legend(loc=\"best\")\n",
    "    return plt\n",
    "\n",
    "g = plot_learning_curve(gsRFC.best_estimator_,\"RF mearning curves\",x_train,y_train,cv=kfold)\n",
    "g = plot_learning_curve(gsExtC.best_estimator_,\"ExtraTrees learning curves\",x_train,y_train,cv=kfold)\n",
    "g = plot_learning_curve(gsSVM.best_estimator_,\"SVM learning curves\",x_train,y_train,cv=kfold)\n",
    "g = plot_learning_curve(gsadaDTC.best_estimator_,\"AdaBoost learning curves\",x_train,y_train,cv=kfold)\n",
    "g = plot_learning_curve(gsGBC.best_estimator_,\"GradientBoosting learning curves\",x_train,y_train,cv=kfold)\n",
    "g = plot_learning_curve(gsXGB.best_estimator_,\"XGBoost learning curves\",x_train,y_train,cv=kfold)\n",
    "g = plot_learning_curve(gsLDA.best_estimator_,\"LDA learning curves\",x_train,y_train,cv=kfold)\n",
    "g = plot_learning_curve(gsNN.best_estimator_,\"NN learning curves\",x_train,y_train,cv=kfold)"
   ]
  },
  {
   "cell_type": "code",
   "execution_count": 57,
   "metadata": {},
   "outputs": [
    {
     "data": {
      "image/png": "[encoded data removed]",
      "text/plain": [
       "<matplotlib.figure.Figure at 0x7fea2cc6b2e8>"
      ]
     },
     "metadata": {},
     "output_type": "display_data"
    }
   ],
   "source": [
    "nrows = 2\n",
    "ncols = 2\n",
    "fig, axes = plt.subplots(nrows = nrows, ncols = ncols, sharex=\"all\", figsize=(20,20))\n",
    "\n",
    "names_classifiers = [(\"ExtraTrees\",ExtC_best),(\"RandomForest\",RFC_best),(\"GradientBoosting\",GBC_best),(\"XGBoost\",XGB_best)]\n",
    "\n",
    "nclassifier = 0\n",
    "for row in range(nrows):\n",
    "    for col in range(ncols):\n",
    "        name = names_classifiers[nclassifier][0]\n",
    "        classifier = names_classifiers[nclassifier][1]\n",
    "        indices = np.argsort(classifier.feature_importances_)[::-1][:40]\n",
    "        g = sns.barplot(y=x_train.columns[indices][:40],x = classifier.feature_importances_[indices][:40] , orient='h',ax=axes[row][col])\n",
    "        g.set_xlabel(\"Relative importance\",fontsize=12)\n",
    "        g.set_ylabel(\"\",fontsize=12)\n",
    "        g.tick_params(labelsize=9)\n",
    "        g.set_title(name + \" feature importance\")\n",
    "        nclassifier += 1"
   ]
  },
  {
   "cell_type": "code",
   "execution_count": 58,
   "metadata": {},
   "outputs": [
    {
     "data": {
      "image/png": "[encoded data removed]",
      "text/plain": [
       "<matplotlib.figure.Figure at 0x7fea2d50ec88>"
      ]
     },
     "metadata": {},
     "output_type": "display_data"
    }
   ],
   "source": [
    "test_Survived_GBC = pd.Series(GBC_best.predict(x_valid), name=\"GBC\")\n",
    "test_Survived_XGB = pd.Series(XGB_best.predict(x_valid), name=\"XGB\")\n",
    "test_Survived_LDA = pd.Series(LDA_best.predict(x_valid), name=\"LDA\")\n",
    "test_Survived_NN = pd.Series(NN_best.predict(x_valid), name=\"NN\")\n",
    "\n",
    "# Concatenate all classifier results\n",
    "ensemble_results = pd.concat([test_Survived_GBC,test_Survived_XGB,test_Survived_LDA,test_Survived_NN],axis=1)\n",
    "\n",
    "g=sns.heatmap(ensemble_results.corr(),annot=True)"
   ]
  },
  {
   "cell_type": "markdown",
   "metadata": {},
   "source": [
    "Ensemble models"
   ]
  },
  {
   "cell_type": "code",
   "execution_count": 59,
   "metadata": {
    "collapsed": true
   },
   "outputs": [],
   "source": [
    "# dropped the Ada, because it was poor and underfit\n",
    "# dropped the extra trees, because it looked overfit\n",
    "# dropped SVM, because it doesn't have probability capabilities\n",
    "# dropped RF, because it was not as good at performing as the 3 models included\n",
    "votingC = VotingClassifier(estimators=[('gbc',GBC_best),('xgb',XGB_best),('lda',LDA_best),('nn',NN_best)], voting='soft', n_jobs=16)\n",
    "votingC = votingC.fit(x_train,y_train)\n",
    "\n",
    "prediction_array = votingC.predict_proba(x_valid)\n",
    "pred_valid = pd.DataFrame(prediction_array)[1]"
   ]
  },
  {
   "cell_type": "code",
   "execution_count": 60,
   "metadata": {},
   "outputs": [
    {
     "data": {
      "text/plain": [
       "0.82024359512809741"
      ]
     },
     "execution_count": 60,
     "metadata": {},
     "output_type": "execute_result"
    }
   ],
   "source": [
    "accuracy_score(y_valid, pred_valid.round())"
   ]
  },
  {
   "cell_type": "markdown",
   "metadata": {},
   "source": [
    "Create test preditions"
   ]
  },
  {
   "cell_type": "code",
   "execution_count": 61,
   "metadata": {
    "collapsed": true
   },
   "outputs": [],
   "source": [
    "ada_pred = ada_best.fit(x_train_orig,y_train_orig)\n",
    "extc_pred = ExtC_best.fit(x_train_orig,y_train_orig)\n",
    "rfc_pred = RFC_best.fit(x_train_orig,y_train_orig)\n",
    "gbc_pred = GBC_best.fit(x_train_orig,y_train_orig)\n",
    "svm_pred = SVM_best.fit(x_train_orig,y_train_orig)\n",
    "xgb_pred = XGB_best.fit(x_train_orig,y_train_orig)\n",
    "lda_pred = LDA_best.fit(x_train_orig,y_train_orig)\n",
    "nn_pred = NN_best.fit(x_train_orig,y_train_orig)\n",
    "\n",
    "ada_pred_test = ada_pred.predict_proba(x_test)\n",
    "extc_pred_test = extc_pred.predict_proba(x_test)\n",
    "rfc_pred_test = rfc_pred.predict_proba(x_test)\n",
    "gbc_pred_test = gbc_pred.predict_proba(x_test)\n",
    "svm_pred_test = svm_pred.predict(x_test)\n",
    "xgb_pred_test = XGB_best.predict_proba(x_test)\n",
    "lda_pred_test = LDA_best.predict_proba(x_test)\n",
    "nn_pred_test = NN_best.predict_proba(x_test)"
   ]
  },
  {
   "cell_type": "code",
   "execution_count": 62,
   "metadata": {},
   "outputs": [
    {
     "data": {
      "text/plain": [
       "0.69201680672268906"
      ]
     },
     "execution_count": 62,
     "metadata": {},
     "output_type": "execute_result"
    }
   ],
   "source": [
    "accuracy_score(y_test, pd.DataFrame(ada_pred_test)[1].round())"
   ]
  },
  {
   "cell_type": "code",
   "execution_count": 63,
   "metadata": {},
   "outputs": [
    {
     "data": {
      "text/plain": [
       "0.76512605042016801"
      ]
     },
     "execution_count": 63,
     "metadata": {},
     "output_type": "execute_result"
    }
   ],
   "source": [
    "accuracy_score(y_test, pd.DataFrame(extc_pred_test)[1].round())"
   ]
  },
  {
   "cell_type": "code",
   "execution_count": 64,
   "metadata": {},
   "outputs": [
    {
     "data": {
      "text/plain": [
       "0.78151260504201681"
      ]
     },
     "execution_count": 64,
     "metadata": {},
     "output_type": "execute_result"
    }
   ],
   "source": [
    "accuracy_score(y_test, pd.DataFrame(rfc_pred_test)[1].round())"
   ]
  },
  {
   "cell_type": "code",
   "execution_count": 65,
   "metadata": {},
   "outputs": [
    {
     "data": {
      "text/plain": [
       "0.58025210084033618"
      ]
     },
     "execution_count": 65,
     "metadata": {},
     "output_type": "execute_result"
    }
   ],
   "source": [
    "accuracy_score(y_test, pd.DataFrame(svm_pred_test))"
   ]
  },
  {
   "cell_type": "code",
   "execution_count": 66,
   "metadata": {},
   "outputs": [
    {
     "data": {
      "text/plain": [
       "0.8214285714285714"
      ]
     },
     "execution_count": 66,
     "metadata": {},
     "output_type": "execute_result"
    }
   ],
   "source": [
    "accuracy_score(y_test, pd.DataFrame(gbc_pred_test)[1].round())"
   ]
  },
  {
   "cell_type": "code",
   "execution_count": 67,
   "metadata": {},
   "outputs": [
    {
     "data": {
      "text/plain": [
       "0.81554621848739495"
      ]
     },
     "execution_count": 67,
     "metadata": {},
     "output_type": "execute_result"
    }
   ],
   "source": [
    "accuracy_score(y_test, pd.DataFrame(xgb_pred_test)[1].round())"
   ]
  },
  {
   "cell_type": "code",
   "execution_count": 68,
   "metadata": {},
   "outputs": [
    {
     "data": {
      "text/plain": [
       "0.81092436974789917"
      ]
     },
     "execution_count": 68,
     "metadata": {},
     "output_type": "execute_result"
    }
   ],
   "source": [
    "accuracy_score(y_test, pd.DataFrame(lda_pred_test)[1].round())"
   ]
  },
  {
   "cell_type": "code",
   "execution_count": 69,
   "metadata": {},
   "outputs": [
    {
     "data": {
      "text/plain": [
       "0.8172268907563025"
      ]
     },
     "execution_count": 69,
     "metadata": {},
     "output_type": "execute_result"
    }
   ],
   "source": [
    "accuracy_score(y_test, pd.DataFrame(nn_pred_test)[1].round())"
   ]
  },
  {
   "cell_type": "code",
   "execution_count": 70,
   "metadata": {
    "collapsed": true
   },
   "outputs": [],
   "source": [
    "votingC = VotingClassifier(estimators=[('gbc',GBC_best),('xgb',XGB_best),('lda',LDA_best),('nn',NN_best)], voting='soft', n_jobs=16)\n",
    "votingC = votingC.fit(x_train_orig,y_train_orig)\n",
    "prediction_array = votingC.predict_proba(x_test)\n",
    "pred_test = pd.DataFrame(prediction_array)[1]"
   ]
  },
  {
   "cell_type": "code",
   "execution_count": 71,
   "metadata": {},
   "outputs": [
    {
     "data": {
      "text/plain": [
       "0.83109243697478996"
      ]
     },
     "execution_count": 71,
     "metadata": {},
     "output_type": "execute_result"
    }
   ],
   "source": [
    "accuracy_score(y_test, pred_test.round())"
   ]
  },
  {
   "cell_type": "code",
   "execution_count": 72,
   "metadata": {
    "collapsed": true
   },
   "outputs": [],
   "source": [
    "#confusion matrix doesn't handle continuous (predict binary)\n",
    "ada_pred_test_binary = ada_pred.predict(x_test)\n",
    "extc_pred_test_binary = extc_pred.predict(x_test)\n",
    "rfc_pred_test_binary = rfc_pred.predict(x_test)\n",
    "gbc_pred_test_binary = gbc_pred.predict(x_test)\n",
    "xgb_pred_test_binary = XGB_best.predict(x_test)\n",
    "lda_pred_test_binary = LDA_best.predict(x_test)\n",
    "nn_pred_test_binary = NN_best.predict(x_test)"
   ]
  },
  {
   "cell_type": "code",
   "execution_count": 73,
   "metadata": {
    "collapsed": true
   },
   "outputs": [],
   "source": [
    "prediction_array_binary = votingC.predict(x_test)\n",
    "pred_test_binary = pd.DataFrame(prediction_array_binary)"
   ]
  },
  {
   "cell_type": "markdown",
   "metadata": {},
   "source": [
    "# ROC and confusion matrix in test set"
   ]
  },
  {
   "cell_type": "code",
   "execution_count": 74,
   "metadata": {
    "collapsed": true
   },
   "outputs": [],
   "source": [
    "PLOT_FONT_SIZE = 10    #font size for axis of plots\n",
    "\n",
    "#define helper function for confusion matrix\n",
    "\n",
    "def displayConfusionMatrix(confusionMatrix):\n",
    "    \"\"\"Confusion matrix plot\"\"\"\n",
    "    \n",
    "    confusionMatrix = np.transpose(confusionMatrix)\n",
    "    \n",
    "    ## calculate class level precision and recall from confusion matrix\n",
    "    precisionLow = round((confusionMatrix[0][0] / (confusionMatrix[0][0] + confusionMatrix[0][1]))*100, 1)\n",
    "    precisionHigh = round((confusionMatrix[1][1] / (confusionMatrix[1][0] + confusionMatrix[1][1]))*100, 1)\n",
    "    recallLow = round((confusionMatrix[0][0] / (confusionMatrix[0][0] + confusionMatrix[1][0]))*100, 1)\n",
    "    recallHigh = round((confusionMatrix[1][1] / (confusionMatrix[0][1] + confusionMatrix[1][1]))*100, 1)\n",
    "\n",
    "    ## show heatmap\n",
    "    plt.imshow(confusionMatrix, interpolation='nearest',cmap=plt.cm.Blues,vmin=0, vmax=100)\n",
    "    \n",
    "    ## axis labeling\n",
    "    xticks = np.array([0,1])\n",
    "    plt.gca().set_xticks(xticks)\n",
    "    plt.gca().set_yticks(xticks)\n",
    "    plt.gca().set_xticklabels([\"High Severity \\n Recall=\" + str(recallLow), \"Low Severity \\n Recall=\" + str(recallHigh)], fontsize=PLOT_FONT_SIZE)\n",
    "    plt.gca().set_yticklabels([\"High Severity \\n Precision=\" + str(precisionLow), \"Low Severity \\n Precision=\" + str(precisionHigh)], fontsize=PLOT_FONT_SIZE)\n",
    "    plt.ylabel(\"Predicted Class\", fontsize=PLOT_FONT_SIZE)\n",
    "    plt.xlabel(\"Actual Class\", fontsize=PLOT_FONT_SIZE)\n",
    "        \n",
    "    ## add text in heatmap boxes\n",
    "    addText(xticks, xticks, confusionMatrix)\n",
    "    \n",
    "def addText(xticks, yticks, results):\n",
    "    \"\"\"Add text in the plot\"\"\"\n",
    "    for i in range(len(yticks)):\n",
    "        for j in range(len(xticks)):\n",
    "            text = plt.text(j, i, results[i][j], ha=\"center\", va=\"center\", color=\"white\", size=PLOT_FONT_SIZE) ### size here is the size of text inside a single box in the heatmap"
   ]
  },
  {
   "cell_type": "code",
   "execution_count": 75,
   "metadata": {},
   "outputs": [
    {
     "data": {
      "image/png": "[encoded data removed]",
      "text/plain": [
       "<matplotlib.figure.Figure at 0x7fea2cef7860>"
      ]
     },
     "metadata": {},
     "output_type": "display_data"
    },
    {
     "data": {
      "image/png": "[encoded data removed]",
      "text/plain": [
       "<matplotlib.figure.Figure at 0x7fea2bb3f438>"
      ]
     },
     "metadata": {},
     "output_type": "display_data"
    },
    {
     "data": {
      "image/png": "[encoded data removed]",
      "text/plain": [
       "<matplotlib.figure.Figure at 0x7fea2f53df98>"
      ]
     },
     "metadata": {},
     "output_type": "display_data"
    },
    {
     "data": {
      "image/png": "[encoded data removed]",
      "text/plain": [
       "<matplotlib.figure.Figure at 0x7fea2bb3fc18>"
      ]
     },
     "metadata": {},
     "output_type": "display_data"
    },
    {
     "data": {
      "image/png": "[encoded data removed]",
      "text/plain": [
       "<matplotlib.figure.Figure at 0x7fea1cbf9e80>"
      ]
     },
     "metadata": {},
     "output_type": "display_data"
    },
    {
     "data": {
      "image/png": "[encoded data removed]",
      "text/plain": [
       "<matplotlib.figure.Figure at 0x7fea2d93f358>"
      ]
     },
     "metadata": {},
     "output_type": "display_data"
    },
    {
     "data": {
      "image/png": "[encoded data removed]",
      "text/plain": [
       "<matplotlib.figure.Figure at 0x7fea1ccd6ef0>"
      ]
     },
     "metadata": {},
     "output_type": "display_data"
    },
    {
     "data": {
      "image/png": "[encoded data removed]",
      "text/plain": [
       "<matplotlib.figure.Figure at 0x7fea2d3089e8>"
      ]
     },
     "metadata": {},
     "output_type": "display_data"
    },
    {
     "data": {
      "image/png": "[encoded data removed]",
      "text/plain": [
       "<matplotlib.figure.Figure at 0x7fea2da8a6a0>"
      ]
     },
     "metadata": {},
     "output_type": "display_data"
    }
   ],
   "source": [
    "#generate confusion matrices for the different models' training fit\n",
    "#Ada\n",
    "confusionMatrix = None\n",
    "confusionMatrix = confusion_matrix(y_test, ada_pred_test_binary)\n",
    "\n",
    "## confusion matrix for Ada\n",
    "plt.rcParams['figure.figsize'] = [3, 3] ## plot size\n",
    "displayConfusionMatrix(confusionMatrix)\n",
    "plt.title(\"AdaBoost\", fontsize=PLOT_FONT_SIZE)\n",
    "plt.show()\n",
    "\n",
    "#extra trees\n",
    "confusionMatrix = None\n",
    "confusionMatrix = confusion_matrix(y_test, extc_pred_test_binary)\n",
    "\n",
    "# confusion matrix for extra trees\n",
    "plt.rcParams['figure.figsize'] = [3, 3] ## plot size\n",
    "displayConfusionMatrix(confusionMatrix)\n",
    "plt.title(\"ExtraTrees\", fontsize=PLOT_FONT_SIZE)\n",
    "plt.show()\n",
    "\n",
    "#RF\n",
    "confusionMatrix = None\n",
    "confusionMatrix = confusion_matrix(y_test, rfc_pred_test_binary)\n",
    "\n",
    "## confusion matrix for RF\n",
    "plt.rcParams['figure.figsize'] = [3, 3] ## plot size\n",
    "displayConfusionMatrix(confusionMatrix)\n",
    "plt.title(\"RandomForest\", fontsize=PLOT_FONT_SIZE)\n",
    "plt.show()\n",
    "\n",
    "#GradientBoosting\n",
    "confusionMatrix = None\n",
    "confusionMatrix = confusion_matrix(y_test, gbc_pred_test_binary)\n",
    "\n",
    "## confusion matrix for GradientBoosting\n",
    "plt.rcParams['figure.figsize'] = [3, 3] ## plot size\n",
    "displayConfusionMatrix(confusionMatrix)\n",
    "plt.title(\"GradientBoosting\", fontsize=PLOT_FONT_SIZE)\n",
    "plt.show()\n",
    "\n",
    "#SVM\n",
    "confusionMatrix = None\n",
    "confusionMatrix = confusion_matrix(y_test, svm_pred_test)\n",
    "\n",
    "## confusion matrix for SVM\n",
    "plt.rcParams['figure.figsize'] = [3, 3] ## plot size\n",
    "displayConfusionMatrix(confusionMatrix)\n",
    "plt.title(\"SVM\", fontsize=PLOT_FONT_SIZE)\n",
    "plt.show()\n",
    "\n",
    "#XGBoost\n",
    "confusionMatrix = None\n",
    "confusionMatrix = confusion_matrix(y_test, xgb_pred_test_binary)\n",
    "\n",
    "## confusion matrix for XGBoost\n",
    "plt.rcParams['figure.figsize'] = [3, 3] ## plot size\n",
    "displayConfusionMatrix(confusionMatrix)\n",
    "plt.title(\"XGBoost\", fontsize=PLOT_FONT_SIZE)\n",
    "plt.show()\n",
    "\n",
    "#LDA\n",
    "confusionMatrix = None\n",
    "confusionMatrix = confusion_matrix(y_test, lda_pred_test_binary)\n",
    "\n",
    "## confusion matrix for LDA\n",
    "plt.rcParams['figure.figsize'] = [3, 3] ## plot size\n",
    "displayConfusionMatrix(confusionMatrix)\n",
    "plt.title(\"LDA\", fontsize=PLOT_FONT_SIZE)\n",
    "plt.show()\n",
    "\n",
    "#NN\n",
    "confusionMatrix = None\n",
    "confusionMatrix = confusion_matrix(y_test, nn_pred_test_binary)\n",
    "\n",
    "## confusion matrix for NN\n",
    "plt.rcParams['figure.figsize'] = [3, 3] ## plot size\n",
    "displayConfusionMatrix(confusionMatrix)\n",
    "plt.title(\"Neural Network\", fontsize=PLOT_FONT_SIZE)\n",
    "plt.show()\n",
    "\n",
    "#Ensemble\n",
    "confusionMatrix = None\n",
    "confusionMatrix = confusion_matrix(y_test, pred_test_binary)\n",
    "\n",
    "## confusion matrix for Ensemble\n",
    "plt.rcParams['figure.figsize'] = [3, 3] ## plot size\n",
    "displayConfusionMatrix(confusionMatrix)\n",
    "plt.title(\"Ensemble\", fontsize=PLOT_FONT_SIZE)\n",
    "plt.show()"
   ]
  },
  {
   "cell_type": "code",
   "execution_count": 76,
   "metadata": {
    "collapsed": true
   },
   "outputs": [],
   "source": [
    "PLOT_FONT_SIZE = 10    #font size for axis of plots\n",
    "global rocCurveData\n",
    "\n",
    "## lists for ROC curves\n",
    "rocCurveData = []\n",
    "fpr, tpr, threshold = None, None, None\n",
    "\n",
    "#define helper function for plotting ROC curves\n",
    "\n",
    "def displaySingleROCCurve(MODEL_NAME, testLabels, predictionsConfidence):\n",
    "    \"\"\"ROC Curve plot\"\"\"\n",
    "    predictionsConfidence = [item[1] for item in predictionsConfidence]\n",
    "    fpr, tpr, threshold = roc_curve(testLabels, predictionsConfidence)\n",
    "    \n",
    "    ## plot roc curve\n",
    "    plt.rcParams['figure.figsize'] = [8, 6]\n",
    "    plt.plot(fpr,tpr, linewidth=3.0, color='#d60000')\n",
    "    setLabelsAndTicks(\"False Positive Rate\", \"True Positive Rate\", None, None, PLOT_FONT_SIZE, rotation=0)\n",
    "    plt.title(\"ROC Curve for \" + MODEL_NAME,fontsize=PLOT_FONT_SIZE)\n",
    "    plt.tight_layout()\n",
    "    plt.show()\n",
    "\n",
    "def setLabelsAndTicks(xlabel, ylabel, xticks, yticks, fontsize, rotation=0):\n",
    "    \"\"\"Set axis and ticks labels in the plot\"\"\"\n",
    "    if xticks == None:\n",
    "        plt.xlabel(xlabel, fontsize=fontsize)\n",
    "        plt.ylabel(ylabel,fontsize=fontsize)\n",
    "        plt.xticks(fontsize=fontsize, rotation=rotation)\n",
    "        plt.yticks(fontsize=fontsize)\n",
    "    else:\n",
    "        x = np.arange(len(xticks))\n",
    "        plt.xlabel(xlabel, fontsize=fontsize)\n",
    "        plt.ylabel(ylabel,fontsize=fontsize)\n",
    "        plt.xticks(x, xticks, fontsize=fontsize, rotation=rotation)\n",
    "        plt.yticks(x, yticks, fontsize=fontsize)"
   ]
  },
  {
   "cell_type": "code",
   "execution_count": 77,
   "metadata": {
    "collapsed": true
   },
   "outputs": [],
   "source": [
    "#generate ROC plot data for all models' training fit\n",
    "rocCurveData=[]\n",
    "\n",
    "#ADA\n",
    "MODEL_NAME = \"AdaBoost\"\n",
    "predictionProb = [item[1] for item in ada_pred_test] # we need to only use first column in 2D prob array\n",
    "fpr, tpr, threshold = roc_curve(y_test, predictionProb)\n",
    "rocCurveData.append([MODEL_NAME, fpr, tpr])\n",
    "\n",
    "#ExtraTrees\n",
    "MODEL_NAME = \"ExtraTrees\"\n",
    "predictionProb = [item[1] for item in extc_pred_test] # we need to only use first column in 2D prob array\n",
    "fpr, tpr, threshold = roc_curve(y_test, predictionProb)\n",
    "rocCurveData.append([MODEL_NAME, fpr, tpr])\n",
    "\n",
    "#RandomForest\n",
    "MODEL_NAME = \"Random Forest\"\n",
    "predictionProb = [item[1] for item in rfc_pred_test] # we need to only use first column in 2D prob array\n",
    "fpr, tpr, threshold = roc_curve(y_test, predictionProb)\n",
    "rocCurveData.append([MODEL_NAME, fpr, tpr])\n",
    "\n",
    "#GBC\n",
    "MODEL_NAME = \"Gradient Boosting\"\n",
    "predictionProb = [item[1] for item in gbc_pred_test] # we need to only use first column in 2D prob array\n",
    "fpr, tpr, threshold = roc_curve(y_test, predictionProb)\n",
    "rocCurveData.append([MODEL_NAME, fpr, tpr])\n",
    "\n",
    "#XGB\n",
    "MODEL_NAME = \"XGBoost\"\n",
    "predictionProb = [item[1] for item in xgb_pred_test] # we need to only use first column in 2D prob array\n",
    "fpr, tpr, threshold = roc_curve(y_test, predictionProb)\n",
    "rocCurveData.append([MODEL_NAME, fpr, tpr])\n",
    "\n",
    "#LDA\n",
    "MODEL_NAME = \"LDA\"\n",
    "predictionProb = [item[1] for item in lda_pred_test] # we need to only use first column in 2D prob array\n",
    "fpr, tpr, threshold = roc_curve(y_test, predictionProb)\n",
    "rocCurveData.append([MODEL_NAME, fpr, tpr])\n",
    "\n",
    "#NN\n",
    "MODEL_NAME = \"Neural Network\"\n",
    "predictionProb = [item[1] for item in nn_pred_test] # we need to only use first column in 2D prob array\n",
    "fpr, tpr, threshold = roc_curve(y_test, predictionProb)\n",
    "rocCurveData.append([MODEL_NAME, fpr, tpr])\n",
    "\n",
    "#Ensemble\n",
    "MODEL_NAME = \"Ensemble\"\n",
    "predictionProb = [item[1] for item in prediction_array] # we need to only use first column in 2D prob array\n",
    "fpr, tpr, threshold = roc_curve(y_test, predictionProb)\n",
    "rocCurveData.append([MODEL_NAME, fpr, tpr])"
   ]
  },
  {
   "cell_type": "code",
   "execution_count": 78,
   "metadata": {},
   "outputs": [
    {
     "name": "stdout",
     "output_type": "stream",
     "text": [
      "+++ Plotting ROC curves for different models\n"
     ]
    },
    {
     "data": {
      "image/png": "[encoded data removed]",
      "text/plain": [
       "<matplotlib.figure.Figure at 0x7fea2c75ac88>"
      ]
     },
     "metadata": {},
     "output_type": "display_data"
    }
   ],
   "source": [
    "## Plot ROC curves for all models.\n",
    "plt.rcParams['figure.figsize'] = [14, 10]\n",
    "print('+++ Plotting ROC curves for different models')\n",
    "classificationSettings = [item[0] for item in rocCurveData]\n",
    "fprs = [item[1] for item in rocCurveData]\n",
    "tprs = [item[2] for item in rocCurveData]\n",
    "\n",
    "for c in range(0, len(classificationSettings)):\n",
    "    plt.plot(fprs[c],tprs[c], linewidth=3.0)\n",
    "\n",
    "plt.title(\"Model Comparison via ROC Curves\",fontsize=PLOT_FONT_SIZE)\n",
    "plt.legend(classificationSettings, fontsize=PLOT_FONT_SIZE)\n",
    "plt.xticks(fontsize=PLOT_FONT_SIZE)\n",
    "plt.yticks(fontsize=PLOT_FONT_SIZE)\n",
    "plt.xlabel(\"False Positive Rate\",fontsize=PLOT_FONT_SIZE)\n",
    "plt.ylabel(\"True Positive Rate\",fontsize=PLOT_FONT_SIZE)\n",
    "plt.show()"
   ]
  }
 ],
 "metadata": {
  "kernelspec": {
   "display_name": "Python 3",
   "language": "python",
   "name": "python3"
  },
  "language_info": {
   "codemirror_mode": {
    "name": "ipython",
    "version": 3
   },
   "file_extension": ".py",
   "mimetype": "text/x-python",
   "name": "python",
   "nbconvert_exporter": "python",
   "pygments_lexer": "ipython3",
   "version": "3.6.2"
  }
 },
 "nbformat": 4,
 "nbformat_minor": 2
}
